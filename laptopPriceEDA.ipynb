{
 "cells": [
  {
   "cell_type": "code",
   "execution_count": null,
   "metadata": {},
   "outputs": [],
   "source": [
    "import pandas as pd\n",
    "import numpy as np\n",
    "import seaborn as sns\n",
    "import matplotlib.pyplot as plt\n",
    "\n",
    "# import plotly.express as px #(try in the future, more detailed than regular use of seaborn or matplot)"
   ]
  },
  {
   "cell_type": "code",
   "execution_count": 2,
   "metadata": {},
   "outputs": [],
   "source": [
    "df = pd.read_csv(\"laptops.csv\")"
   ]
  },
  {
   "cell_type": "code",
   "execution_count": 3,
   "metadata": {},
   "outputs": [
    {
     "data": {
      "text/plain": [
       "(1000, 11)"
      ]
     },
     "execution_count": 3,
     "metadata": {},
     "output_type": "execute_result"
    }
   ],
   "source": [
    "df.shape"
   ]
  },
  {
   "cell_type": "code",
   "execution_count": 4,
   "metadata": {},
   "outputs": [
    {
     "data": {
      "text/plain": [
       "Index(['CompanyName', 'TypeOfLaptop', 'Inches', 'ScreenResolution', 'Cpu',\n",
       "       'Ram', 'Memory', 'Gpu', 'OpSys', 'Weight', 'Price'],\n",
       "      dtype='object')"
      ]
     },
     "execution_count": 4,
     "metadata": {},
     "output_type": "execute_result"
    }
   ],
   "source": [
    "df.columns"
   ]
  },
  {
   "cell_type": "code",
   "execution_count": 5,
   "metadata": {},
   "outputs": [
    {
     "name": "stdout",
     "output_type": "stream",
     "text": [
      "<class 'pandas.core.frame.DataFrame'>\n",
      "RangeIndex: 1000 entries, 0 to 999\n",
      "Data columns (total 11 columns):\n",
      " #   Column            Non-Null Count  Dtype  \n",
      "---  ------            --------------  -----  \n",
      " 0   CompanyName       1000 non-null   object \n",
      " 1   TypeOfLaptop      1000 non-null   object \n",
      " 2   Inches            1000 non-null   float64\n",
      " 3   ScreenResolution  1000 non-null   object \n",
      " 4   Cpu               1000 non-null   object \n",
      " 5   Ram               1000 non-null   object \n",
      " 6   Memory            1000 non-null   object \n",
      " 7   Gpu               1000 non-null   object \n",
      " 8   OpSys             1000 non-null   object \n",
      " 9   Weight            1000 non-null   float64\n",
      " 10  Price             1000 non-null   float64\n",
      "dtypes: float64(3), object(8)\n",
      "memory usage: 86.1+ KB\n"
     ]
    }
   ],
   "source": [
    "df.info()"
   ]
  },
  {
   "cell_type": "code",
   "execution_count": 6,
   "metadata": {},
   "outputs": [
    {
     "data": {
      "text/plain": [
       "CompanyName         0\n",
       "TypeOfLaptop        0\n",
       "Inches              0\n",
       "ScreenResolution    0\n",
       "Cpu                 0\n",
       "Ram                 0\n",
       "Memory              0\n",
       "Gpu                 0\n",
       "OpSys               0\n",
       "Weight              0\n",
       "Price               0\n",
       "dtype: int64"
      ]
     },
     "execution_count": 6,
     "metadata": {},
     "output_type": "execute_result"
    }
   ],
   "source": [
    "df.isnull().sum()"
   ]
  },
  {
   "cell_type": "code",
   "execution_count": 7,
   "metadata": {},
   "outputs": [
    {
     "data": {
      "text/plain": [
       "0"
      ]
     },
     "execution_count": 7,
     "metadata": {},
     "output_type": "execute_result"
    }
   ],
   "source": [
    "df.duplicated().sum()"
   ]
  },
  {
   "cell_type": "code",
   "execution_count": 8,
   "metadata": {},
   "outputs": [
    {
     "data": {
      "text/html": [
       "<div>\n",
       "<style scoped>\n",
       "    .dataframe tbody tr th:only-of-type {\n",
       "        vertical-align: middle;\n",
       "    }\n",
       "\n",
       "    .dataframe tbody tr th {\n",
       "        vertical-align: top;\n",
       "    }\n",
       "\n",
       "    .dataframe thead th {\n",
       "        text-align: right;\n",
       "    }\n",
       "</style>\n",
       "<table border=\"1\" class=\"dataframe\">\n",
       "  <thead>\n",
       "    <tr style=\"text-align: right;\">\n",
       "      <th></th>\n",
       "      <th>count</th>\n",
       "      <th>mean</th>\n",
       "      <th>std</th>\n",
       "      <th>min</th>\n",
       "      <th>25%</th>\n",
       "      <th>50%</th>\n",
       "      <th>75%</th>\n",
       "      <th>max</th>\n",
       "    </tr>\n",
       "  </thead>\n",
       "  <tbody>\n",
       "    <tr>\n",
       "      <th>Inches</th>\n",
       "      <td>1000.0</td>\n",
       "      <td>14.496646</td>\n",
       "      <td>2.066624</td>\n",
       "      <td>11.005842</td>\n",
       "      <td>12.677791</td>\n",
       "      <td>14.509298</td>\n",
       "      <td>16.313026</td>\n",
       "      <td>17.998786</td>\n",
       "    </tr>\n",
       "    <tr>\n",
       "      <th>Weight</th>\n",
       "      <td>1000.0</td>\n",
       "      <td>3.469800</td>\n",
       "      <td>0.857112</td>\n",
       "      <td>2.000819</td>\n",
       "      <td>2.720228</td>\n",
       "      <td>3.477824</td>\n",
       "      <td>4.189891</td>\n",
       "      <td>4.994556</td>\n",
       "    </tr>\n",
       "    <tr>\n",
       "      <th>Price</th>\n",
       "      <td>1000.0</td>\n",
       "      <td>51602.255339</td>\n",
       "      <td>13802.833231</td>\n",
       "      <td>30060.275100</td>\n",
       "      <td>40376.617670</td>\n",
       "      <td>50683.971717</td>\n",
       "      <td>61897.280126</td>\n",
       "      <td>115137.368077</td>\n",
       "    </tr>\n",
       "  </tbody>\n",
       "</table>\n",
       "</div>"
      ],
      "text/plain": [
       "         count          mean           std           min           25%  \\\n",
       "Inches  1000.0     14.496646      2.066624     11.005842     12.677791   \n",
       "Weight  1000.0      3.469800      0.857112      2.000819      2.720228   \n",
       "Price   1000.0  51602.255339  13802.833231  30060.275100  40376.617670   \n",
       "\n",
       "                 50%           75%            max  \n",
       "Inches     14.509298     16.313026      17.998786  \n",
       "Weight      3.477824      4.189891       4.994556  \n",
       "Price   50683.971717  61897.280126  115137.368077  "
      ]
     },
     "execution_count": 8,
     "metadata": {},
     "output_type": "execute_result"
    }
   ],
   "source": [
    "df.describe().T"
   ]
  },
  {
   "cell_type": "code",
   "execution_count": 9,
   "metadata": {},
   "outputs": [
    {
     "data": {
      "text/html": [
       "<div>\n",
       "<style scoped>\n",
       "    .dataframe tbody tr th:only-of-type {\n",
       "        vertical-align: middle;\n",
       "    }\n",
       "\n",
       "    .dataframe tbody tr th {\n",
       "        vertical-align: top;\n",
       "    }\n",
       "\n",
       "    .dataframe thead th {\n",
       "        text-align: right;\n",
       "    }\n",
       "</style>\n",
       "<table border=\"1\" class=\"dataframe\">\n",
       "  <thead>\n",
       "    <tr style=\"text-align: right;\">\n",
       "      <th></th>\n",
       "      <th>CompanyName</th>\n",
       "      <th>TypeOfLaptop</th>\n",
       "      <th>Inches</th>\n",
       "      <th>ScreenResolution</th>\n",
       "      <th>Cpu</th>\n",
       "      <th>Ram</th>\n",
       "      <th>Memory</th>\n",
       "      <th>Gpu</th>\n",
       "      <th>OpSys</th>\n",
       "      <th>Weight</th>\n",
       "      <th>Price</th>\n",
       "    </tr>\n",
       "  </thead>\n",
       "  <tbody>\n",
       "    <tr>\n",
       "      <th>0</th>\n",
       "      <td>MSI</td>\n",
       "      <td>Business Laptop</td>\n",
       "      <td>17.040680</td>\n",
       "      <td>IPS Panel Retina Display 2560x1600</td>\n",
       "      <td>Intel Core i7</td>\n",
       "      <td>12GB</td>\n",
       "      <td>512GB SSD</td>\n",
       "      <td>Intel Iris Xe Graphics</td>\n",
       "      <td>Linux</td>\n",
       "      <td>2.064834</td>\n",
       "      <td>35844.099371</td>\n",
       "    </tr>\n",
       "    <tr>\n",
       "      <th>1</th>\n",
       "      <td>Chuwi</td>\n",
       "      <td>2 in 1 Convertible</td>\n",
       "      <td>16.542395</td>\n",
       "      <td>Full HD</td>\n",
       "      <td>Intel Core i5</td>\n",
       "      <td>12GB</td>\n",
       "      <td>128GB PCIe SSD</td>\n",
       "      <td>Intel Iris Xe Graphics</td>\n",
       "      <td>No OS</td>\n",
       "      <td>4.060656</td>\n",
       "      <td>37019.059051</td>\n",
       "    </tr>\n",
       "    <tr>\n",
       "      <th>2</th>\n",
       "      <td>hp</td>\n",
       "      <td>WorkStation</td>\n",
       "      <td>17.295294</td>\n",
       "      <td>Full HD</td>\n",
       "      <td>Intel Xeon E3-1505M</td>\n",
       "      <td>8GB</td>\n",
       "      <td>1TB HDD</td>\n",
       "      <td>Intel Iris Xe Graphics</td>\n",
       "      <td>Linux</td>\n",
       "      <td>2.901689</td>\n",
       "      <td>33329.360341</td>\n",
       "    </tr>\n",
       "    <tr>\n",
       "      <th>3</th>\n",
       "      <td>MSI</td>\n",
       "      <td>2 in 1 Convertible</td>\n",
       "      <td>11.526203</td>\n",
       "      <td>2K</td>\n",
       "      <td>Intel Core i7</td>\n",
       "      <td>16GB</td>\n",
       "      <td>512GB NVMe SSD</td>\n",
       "      <td>Intel Iris Xe Graphics</td>\n",
       "      <td>Windows 10</td>\n",
       "      <td>2.914843</td>\n",
       "      <td>68631.102486</td>\n",
       "    </tr>\n",
       "    <tr>\n",
       "      <th>4</th>\n",
       "      <td>Microsoft</td>\n",
       "      <td>Gaming</td>\n",
       "      <td>12.649634</td>\n",
       "      <td>Full HD</td>\n",
       "      <td>Intel Core i5</td>\n",
       "      <td>8GB</td>\n",
       "      <td>512GB SSD</td>\n",
       "      <td>AMD Radeon RX 5600M</td>\n",
       "      <td>Windows 10</td>\n",
       "      <td>4.341995</td>\n",
       "      <td>33842.479566</td>\n",
       "    </tr>\n",
       "  </tbody>\n",
       "</table>\n",
       "</div>"
      ],
      "text/plain": [
       "  CompanyName        TypeOfLaptop     Inches  \\\n",
       "0         MSI     Business Laptop  17.040680   \n",
       "1       Chuwi  2 in 1 Convertible  16.542395   \n",
       "2          hp         WorkStation  17.295294   \n",
       "3         MSI  2 in 1 Convertible  11.526203   \n",
       "4   Microsoft              Gaming  12.649634   \n",
       "\n",
       "                     ScreenResolution                   Cpu   Ram  \\\n",
       "0  IPS Panel Retina Display 2560x1600         Intel Core i7  12GB   \n",
       "1                             Full HD         Intel Core i5  12GB   \n",
       "2                             Full HD  Intel Xeon E3-1505M    8GB   \n",
       "3                                  2K         Intel Core i7  16GB   \n",
       "4                             Full HD         Intel Core i5   8GB   \n",
       "\n",
       "           Memory                     Gpu       OpSys    Weight         Price  \n",
       "0       512GB SSD  Intel Iris Xe Graphics       Linux  2.064834  35844.099371  \n",
       "1  128GB PCIe SSD  Intel Iris Xe Graphics       No OS  4.060656  37019.059051  \n",
       "2         1TB HDD  Intel Iris Xe Graphics       Linux  2.901689  33329.360341  \n",
       "3  512GB NVMe SSD  Intel Iris Xe Graphics  Windows 10  2.914843  68631.102486  \n",
       "4       512GB SSD     AMD Radeon RX 5600M  Windows 10  4.341995  33842.479566  "
      ]
     },
     "execution_count": 9,
     "metadata": {},
     "output_type": "execute_result"
    }
   ],
   "source": [
    "df.head()"
   ]
  },
  {
   "cell_type": "markdown",
   "metadata": {},
   "source": [
    "**Exploratory Data Analysis:**"
   ]
  },
  {
   "cell_type": "markdown",
   "metadata": {},
   "source": [
    "Company Distribution"
   ]
  },
  {
   "cell_type": "code",
   "execution_count": 10,
   "metadata": {},
   "outputs": [],
   "source": [
    "company_count = df['CompanyName'].value_counts().reset_index()\n",
    "company_count.columns = ['CompanyName', 'Count']"
   ]
  },
  {
   "cell_type": "code",
   "execution_count": 11,
   "metadata": {},
   "outputs": [
    {
     "data": {
      "text/plain": [
       "Text(0.5, 1.0, 'Company Distribution')"
      ]
     },
     "execution_count": 11,
     "metadata": {},
     "output_type": "execute_result"
    },
    {
     "data": {
      "image/png": "[encoded data removed]",
      "text/plain": [
       "<Figure size 1000x600 with 1 Axes>"
      ]
     },
     "metadata": {},
     "output_type": "display_data"
    }
   ],
   "source": [
    "plt.figure(figsize=(10,6))\n",
    "sns.barplot(x=\"CompanyName\", y=\"Count\",data=company_count, palette=\"viridis\")\n",
    "plt.xlabel(\"Company\")\n",
    "plt.ylabel(\"Count\")\n",
    "# plt.xticks(rotation=45, ha='right')\n",
    "plt.title(\"Company Distribution\")"
   ]
  },
  {
   "cell_type": "markdown",
   "metadata": {},
   "source": [
    "From the chart, it seems to show that the top 3 companys to produce laptops are MSI, Microsoft, and Apple."
   ]
  },
  {
   "cell_type": "markdown",
   "metadata": {},
   "source": [
    "Types of Laptops Chosen"
   ]
  },
  {
   "cell_type": "code",
   "execution_count": 12,
   "metadata": {},
   "outputs": [],
   "source": [
    "laptop_type= df['TypeOfLaptop'].value_counts().reset_index()\n",
    "laptop_type.columns = ['TypeOfLaptop','Count']"
   ]
  },
  {
   "cell_type": "code",
   "execution_count": 13,
   "metadata": {},
   "outputs": [
    {
     "data": {
      "text/html": [
       "<div>\n",
       "<style scoped>\n",
       "    .dataframe tbody tr th:only-of-type {\n",
       "        vertical-align: middle;\n",
       "    }\n",
       "\n",
       "    .dataframe tbody tr th {\n",
       "        vertical-align: top;\n",
       "    }\n",
       "\n",
       "    .dataframe thead th {\n",
       "        text-align: right;\n",
       "    }\n",
       "</style>\n",
       "<table border=\"1\" class=\"dataframe\">\n",
       "  <thead>\n",
       "    <tr style=\"text-align: right;\">\n",
       "      <th></th>\n",
       "      <th>TypeOfLaptop</th>\n",
       "      <th>Count</th>\n",
       "    </tr>\n",
       "  </thead>\n",
       "  <tbody>\n",
       "    <tr>\n",
       "      <th>0</th>\n",
       "      <td>Business Laptop</td>\n",
       "      <td>176</td>\n",
       "    </tr>\n",
       "    <tr>\n",
       "      <th>1</th>\n",
       "      <td>WorkStation</td>\n",
       "      <td>175</td>\n",
       "    </tr>\n",
       "    <tr>\n",
       "      <th>2</th>\n",
       "      <td>Gaming</td>\n",
       "      <td>168</td>\n",
       "    </tr>\n",
       "    <tr>\n",
       "      <th>3</th>\n",
       "      <td>UltraBook</td>\n",
       "      <td>166</td>\n",
       "    </tr>\n",
       "    <tr>\n",
       "      <th>4</th>\n",
       "      <td>2 in 1 Convertible</td>\n",
       "      <td>162</td>\n",
       "    </tr>\n",
       "  </tbody>\n",
       "</table>\n",
       "</div>"
      ],
      "text/plain": [
       "         TypeOfLaptop  Count\n",
       "0     Business Laptop    176\n",
       "1         WorkStation    175\n",
       "2              Gaming    168\n",
       "3           UltraBook    166\n",
       "4  2 in 1 Convertible    162"
      ]
     },
     "execution_count": 13,
     "metadata": {},
     "output_type": "execute_result"
    }
   ],
   "source": [
    "laptop_type.head()"
   ]
  },
  {
   "cell_type": "code",
   "execution_count": 14,
   "metadata": {},
   "outputs": [
    {
     "data": {
      "text/plain": [
       "Text(0.5, 1.0, 'Distribution of Laptop Type')"
      ]
     },
     "execution_count": 14,
     "metadata": {},
     "output_type": "execute_result"
    },
    {
     "data": {
      "image/png": "[encoded data removed]",
      "text/plain": [
       "<Figure size 1000x600 with 1 Axes>"
      ]
     },
     "metadata": {},
     "output_type": "display_data"
    }
   ],
   "source": [
    "plt.figure(figsize=(10,6))\n",
    "sns.barplot(x=\"TypeOfLaptop\", y=\"Count\",data=laptop_type, palette=\"viridis\")\n",
    "plt.xlabel(\"Type of Laptop\")\n",
    "plt.ylabel(\"Count\")\n",
    "# plt.xticks(rotation=45, ha='right')\n",
    "plt.title(\"Distribution of Laptop Type\")"
   ]
  },
  {
   "cell_type": "markdown",
   "metadata": {},
   "source": [
    "Common Screen Sizes"
   ]
  },
  {
   "cell_type": "code",
   "execution_count": 15,
   "metadata": {},
   "outputs": [
    {
     "data": {
      "text/plain": [
       "<seaborn.axisgrid.FacetGrid at 0x264f9a953d0>"
      ]
     },
     "execution_count": 15,
     "metadata": {},
     "output_type": "execute_result"
    },
    {
     "data": {
      "text/plain": [
       "<Figure size 1000x600 with 0 Axes>"
      ]
     },
     "metadata": {},
     "output_type": "display_data"
    },
    {
     "data": {
      "image/png": "[encoded data removed]",
      "text/plain": [
       "<Figure size 500x500 with 1 Axes>"
      ]
     },
     "metadata": {},
     "output_type": "display_data"
    }
   ],
   "source": [
    "plt.figure(figsize=(10,6))\n",
    "sns.displot(df['Inches'], kde=True, color='skyblue')"
   ]
  },
  {
   "cell_type": "markdown",
   "metadata": {},
   "source": [
    "Most Popular Screen Resolution"
   ]
  },
  {
   "cell_type": "code",
   "execution_count": 16,
   "metadata": {},
   "outputs": [],
   "source": [
    "screen_res_count = df['ScreenResolution'].value_counts().reset_index()\n",
    "screen_res_count.columns = ['ScreenResolution', 'Count']"
   ]
  },
  {
   "cell_type": "code",
   "execution_count": 17,
   "metadata": {},
   "outputs": [
    {
     "data": {
      "text/html": [
       "<div>\n",
       "<style scoped>\n",
       "    .dataframe tbody tr th:only-of-type {\n",
       "        vertical-align: middle;\n",
       "    }\n",
       "\n",
       "    .dataframe tbody tr th {\n",
       "        vertical-align: top;\n",
       "    }\n",
       "\n",
       "    .dataframe thead th {\n",
       "        text-align: right;\n",
       "    }\n",
       "</style>\n",
       "<table border=\"1\" class=\"dataframe\">\n",
       "  <thead>\n",
       "    <tr style=\"text-align: right;\">\n",
       "      <th></th>\n",
       "      <th>ScreenResolution</th>\n",
       "      <th>Count</th>\n",
       "    </tr>\n",
       "  </thead>\n",
       "  <tbody>\n",
       "    <tr>\n",
       "      <th>0</th>\n",
       "      <td>2K</td>\n",
       "      <td>181</td>\n",
       "    </tr>\n",
       "    <tr>\n",
       "      <th>1</th>\n",
       "      <td>4K</td>\n",
       "      <td>179</td>\n",
       "    </tr>\n",
       "    <tr>\n",
       "      <th>2</th>\n",
       "      <td>IPS Panel Full HD / Touchscreen 1920x1080</td>\n",
       "      <td>176</td>\n",
       "    </tr>\n",
       "    <tr>\n",
       "      <th>3</th>\n",
       "      <td>Full HD</td>\n",
       "      <td>162</td>\n",
       "    </tr>\n",
       "    <tr>\n",
       "      <th>4</th>\n",
       "      <td>HD 1920x1080</td>\n",
       "      <td>160</td>\n",
       "    </tr>\n",
       "  </tbody>\n",
       "</table>\n",
       "</div>"
      ],
      "text/plain": [
       "                            ScreenResolution  Count\n",
       "0                                         2K    181\n",
       "1                                         4K    179\n",
       "2  IPS Panel Full HD / Touchscreen 1920x1080    176\n",
       "3                                    Full HD    162\n",
       "4                              HD 1920x1080     160"
      ]
     },
     "execution_count": 17,
     "metadata": {},
     "output_type": "execute_result"
    }
   ],
   "source": [
    "screen_res_count.head()"
   ]
  },
  {
   "cell_type": "code",
   "execution_count": 18,
   "metadata": {},
   "outputs": [
    {
     "data": {
      "text/plain": [
       "Text(0.5, 1.0, 'Distribution of Screen Resolution Types')"
      ]
     },
     "execution_count": 18,
     "metadata": {},
     "output_type": "execute_result"
    },
    {
     "data": {
      "image/png": "[encoded data removed]",
      "text/plain": [
       "<Figure size 1000x600 with 1 Axes>"
      ]
     },
     "metadata": {},
     "output_type": "display_data"
    }
   ],
   "source": [
    "plt.figure(figsize=(10,6))\n",
    "sns.barplot(x=\"ScreenResolution\", y=\"Count\",data=screen_res_count, palette=\"viridis\")\n",
    "plt.xlabel(\"Screen Resolution Types\")\n",
    "plt.ylabel(\"Count\")\n",
    "plt.xticks(rotation=45, ha='right')\n",
    "plt.title(\"Distribution of Screen Resolution Types\")"
   ]
  },
  {
   "cell_type": "markdown",
   "metadata": {},
   "source": [
    "Most Chosen Cpu"
   ]
  },
  {
   "cell_type": "code",
   "execution_count": 19,
   "metadata": {},
   "outputs": [],
   "source": [
    "cpu_count = df['Cpu'].value_counts().reset_index()\n",
    "cpu_count.columns = ['Cpu', 'Count']"
   ]
  },
  {
   "cell_type": "code",
   "execution_count": 20,
   "metadata": {},
   "outputs": [
    {
     "data": {
      "text/html": [
       "<div>\n",
       "<style scoped>\n",
       "    .dataframe tbody tr th:only-of-type {\n",
       "        vertical-align: middle;\n",
       "    }\n",
       "\n",
       "    .dataframe tbody tr th {\n",
       "        vertical-align: top;\n",
       "    }\n",
       "\n",
       "    .dataframe thead th {\n",
       "        text-align: right;\n",
       "    }\n",
       "</style>\n",
       "<table border=\"1\" class=\"dataframe\">\n",
       "  <thead>\n",
       "    <tr style=\"text-align: right;\">\n",
       "      <th></th>\n",
       "      <th>Cpu</th>\n",
       "      <th>Count</th>\n",
       "    </tr>\n",
       "  </thead>\n",
       "  <tbody>\n",
       "    <tr>\n",
       "      <th>0</th>\n",
       "      <td>Intel Xeon E3-1505M</td>\n",
       "      <td>114</td>\n",
       "    </tr>\n",
       "    <tr>\n",
       "      <th>1</th>\n",
       "      <td>Intel Atom x5-Z8550</td>\n",
       "      <td>111</td>\n",
       "    </tr>\n",
       "    <tr>\n",
       "      <th>2</th>\n",
       "      <td>Intel Core i5</td>\n",
       "      <td>105</td>\n",
       "    </tr>\n",
       "    <tr>\n",
       "      <th>3</th>\n",
       "      <td>Intel Pentium Quad Core N4200</td>\n",
       "      <td>101</td>\n",
       "    </tr>\n",
       "    <tr>\n",
       "      <th>4</th>\n",
       "      <td>Intel Celeron Dual Core 3855U</td>\n",
       "      <td>98</td>\n",
       "    </tr>\n",
       "  </tbody>\n",
       "</table>\n",
       "</div>"
      ],
      "text/plain": [
       "                              Cpu  Count\n",
       "0            Intel Xeon E3-1505M     114\n",
       "1             Intel Atom x5-Z8550    111\n",
       "2                   Intel Core i5    105\n",
       "3   Intel Pentium Quad Core N4200    101\n",
       "4  Intel Celeron Dual Core 3855U      98"
      ]
     },
     "execution_count": 20,
     "metadata": {},
     "output_type": "execute_result"
    }
   ],
   "source": [
    "cpu_count.head()"
   ]
  },
  {
   "cell_type": "code",
   "execution_count": 21,
   "metadata": {},
   "outputs": [
    {
     "data": {
      "text/plain": [
       "Text(0.5, 1.0, 'Distribution of Screen Resolution Types')"
      ]
     },
     "execution_count": 21,
     "metadata": {},
     "output_type": "execute_result"
    },
    {
     "data": {
      "image/png": "[encoded data removed]",
      "text/plain": [
       "<Figure size 1000x600 with 1 Axes>"
      ]
     },
     "metadata": {},
     "output_type": "display_data"
    }
   ],
   "source": [
    "plt.figure(figsize=(10,6))\n",
    "sns.barplot(x=\"Cpu\", y=\"Count\",data=cpu_count, palette='viridis')\n",
    "plt.xlabel(\"Screen Resolution Types\")\n",
    "plt.ylabel(\"Count\")\n",
    "plt.xticks(rotation=45, ha='right')\n",
    "plt.title(\"Distribution of Screen Resolution Types\")"
   ]
  },
  {
   "cell_type": "markdown",
   "metadata": {},
   "source": [
    "Preferred Choice in RAM"
   ]
  },
  {
   "cell_type": "code",
   "execution_count": 22,
   "metadata": {},
   "outputs": [],
   "source": [
    "ram_count = df['Ram'].value_counts().reset_index()\n",
    "ram_count.columns = ['Ram', 'Count']"
   ]
  },
  {
   "cell_type": "code",
   "execution_count": 23,
   "metadata": {},
   "outputs": [
    {
     "data": {
      "text/plain": [
       "Text(0.5, 1.0, 'Distribution of RAM Specification')"
      ]
     },
     "execution_count": 23,
     "metadata": {},
     "output_type": "execute_result"
    },
    {
     "data": {
      "image/png": "[encoded data removed]",
      "text/plain": [
       "<Figure size 1000x600 with 1 Axes>"
      ]
     },
     "metadata": {},
     "output_type": "display_data"
    }
   ],
   "source": [
    "plt.figure(figsize=(10,6))\n",
    "order_list = ['4GB', '8GB', '12GB', '16GB']\n",
    "sns.barplot(x=\"Ram\", y=\"Count\", data=ram_count, order=order_list, palette='viridis')\n",
    "plt.title(\"Distribution of RAM Specification\")"
   ]
  },
  {
   "cell_type": "markdown",
   "metadata": {},
   "source": [
    "Memory Preferences"
   ]
  },
  {
   "cell_type": "code",
   "execution_count": 24,
   "metadata": {},
   "outputs": [],
   "source": [
    "memory_types = df['Memory'].value_counts().reset_index()\n",
    "memory_types.columns = ['Memory','Count']"
   ]
  },
  {
   "cell_type": "code",
   "execution_count": 25,
   "metadata": {},
   "outputs": [
    {
     "data": {
      "text/plain": [
       "Text(0.5, 1.0, 'Distribution of Memory Specs')"
      ]
     },
     "execution_count": 25,
     "metadata": {},
     "output_type": "execute_result"
    },
    {
     "data": {
      "image/png": "[encoded data removed]",
      "text/plain": [
       "<Figure size 1000x600 with 1 Axes>"
      ]
     },
     "metadata": {},
     "output_type": "display_data"
    }
   ],
   "source": [
    "plt.figure(figsize=(10,6))\n",
    "sns.barplot(x=\"Memory\", y=\"Count\",data=memory_types, palette='viridis')\n",
    "plt.xlabel(\"Memory Types\")\n",
    "plt.ylabel(\"Count\")\n",
    "plt.xticks(rotation=45, ha='right')\n",
    "plt.title(\"Distribution of Memory Specs\")"
   ]
  },
  {
   "cell_type": "markdown",
   "metadata": {},
   "source": [
    "Gpu Choices Overview"
   ]
  },
  {
   "cell_type": "code",
   "execution_count": 26,
   "metadata": {},
   "outputs": [],
   "source": [
    "gpu_count = df['Gpu'].value_counts().reset_index()"
   ]
  },
  {
   "cell_type": "code",
   "execution_count": 27,
   "metadata": {},
   "outputs": [
    {
     "data": {
      "text/html": [
       "<div>\n",
       "<style scoped>\n",
       "    .dataframe tbody tr th:only-of-type {\n",
       "        vertical-align: middle;\n",
       "    }\n",
       "\n",
       "    .dataframe tbody tr th {\n",
       "        vertical-align: top;\n",
       "    }\n",
       "\n",
       "    .dataframe thead th {\n",
       "        text-align: right;\n",
       "    }\n",
       "</style>\n",
       "<table border=\"1\" class=\"dataframe\">\n",
       "  <thead>\n",
       "    <tr style=\"text-align: right;\">\n",
       "      <th></th>\n",
       "      <th>index</th>\n",
       "      <th>Gpu</th>\n",
       "    </tr>\n",
       "  </thead>\n",
       "  <tbody>\n",
       "    <tr>\n",
       "      <th>0</th>\n",
       "      <td>NVIDIA GeForce GTX 1650</td>\n",
       "      <td>348</td>\n",
       "    </tr>\n",
       "    <tr>\n",
       "      <th>1</th>\n",
       "      <td>AMD Radeon RX 5600M</td>\n",
       "      <td>339</td>\n",
       "    </tr>\n",
       "    <tr>\n",
       "      <th>2</th>\n",
       "      <td>Intel Iris Xe Graphics</td>\n",
       "      <td>313</td>\n",
       "    </tr>\n",
       "  </tbody>\n",
       "</table>\n",
       "</div>"
      ],
      "text/plain": [
       "                     index  Gpu\n",
       "0  NVIDIA GeForce GTX 1650  348\n",
       "1      AMD Radeon RX 5600M  339\n",
       "2   Intel Iris Xe Graphics  313"
      ]
     },
     "execution_count": 27,
     "metadata": {},
     "output_type": "execute_result"
    }
   ],
   "source": [
    "gpu_count.head()"
   ]
  },
  {
   "cell_type": "code",
   "execution_count": 28,
   "metadata": {},
   "outputs": [
    {
     "data": {
      "text/plain": [
       "([<matplotlib.patches.Wedge at 0x264faa71a10>,\n",
       "  <matplotlib.patches.Wedge at 0x264faab7110>,\n",
       "  <matplotlib.patches.Wedge at 0x264faac4910>],\n",
       " [Text(-0.9769500777913905, 0.5055378774171094, 'NVIDIA GeForce GTX 1650'),\n",
       "  Text(0.12070762754857713, -1.0933570636583432, 'AMD Radeon RX 5600M'),\n",
       "  Text(0.9155755030612911, 0.6096896736816722, 'Intel Iris Xe Graphics')],\n",
       " [Text(-0.5328818606134856, 0.2757479331366051, '34.8%'),\n",
       "  Text(0.0658405241174057, -0.596376580177278, '33.9%'),\n",
       "  Text(0.4994048198516133, 0.33255800382636663, '31.3%')])"
      ]
     },
     "execution_count": 28,
     "metadata": {},
     "output_type": "execute_result"
    },
    {
     "data": {
      "image/png": "[encoded data removed]",
      "text/plain": [
       "<Figure size 640x480 with 1 Axes>"
      ]
     },
     "metadata": {},
     "output_type": "display_data"
    }
   ],
   "source": [
    "plt.pie(gpu_count['Gpu'], labels=gpu_count['index'], autopct='%1.1f%%', startangle=90, colors=['blue', 'green', 'orange'])\n",
    "# this is showing the available Gpu options given from the dataset\n"
   ]
  },
  {
   "cell_type": "markdown",
   "metadata": {},
   "source": [
    "Operating System Preferences"
   ]
  },
  {
   "cell_type": "code",
   "execution_count": 29,
   "metadata": {},
   "outputs": [],
   "source": [
    "opsys_count = df['OpSys'].value_counts().reset_index()"
   ]
  },
  {
   "cell_type": "code",
   "execution_count": 30,
   "metadata": {},
   "outputs": [
    {
     "data": {
      "text/plain": [
       "([<matplotlib.patches.Wedge at 0x264faa5b450>,\n",
       "  <matplotlib.patches.Wedge at 0x264fab06990>,\n",
       "  <matplotlib.patches.Wedge at 0x264fab1c5d0>,\n",
       "  <matplotlib.patches.Wedge at 0x264fab07c90>,\n",
       "  <matplotlib.patches.Wedge at 0x264fab1ff10>],\n",
       " [Text(-0.7117615759438456, 0.8386867466521297, 'No OS'),\n",
       "  Text(-0.9520514449129607, -0.5509973196297274, 'macOS'),\n",
       "  Text(0.2735589197730255, -1.065441465972024, 'Windows 10'),\n",
       "  Text(1.0917539164952244, -0.13443729325354214, 'Linux'),\n",
       "  Text(0.5776920025093937, 0.936093985792392, 'Windows 11')],\n",
       " [Text(-0.38823358687846116, 0.4574654981738889, '22.4%'),\n",
       "  Text(-0.5193007881343421, -0.30054399252530584, '21.9%'),\n",
       "  Text(0.14921395623983208, -0.5811498905301948, '19.4%'),\n",
       "  Text(0.5955021362701223, -0.07332943268375025, '18.7%'),\n",
       "  Text(0.3151047286414874, 0.5105967195231228, '17.6%')])"
      ]
     },
     "execution_count": 30,
     "metadata": {},
     "output_type": "execute_result"
    },
    {
     "data": {
      "image/png": "[encoded data removed]",
      "text/plain": [
       "<Figure size 640x480 with 1 Axes>"
      ]
     },
     "metadata": {},
     "output_type": "display_data"
    }
   ],
   "source": [
    "plt.pie(opsys_count['OpSys'], labels=opsys_count['index'], autopct='%1.1f%%', startangle=90, colors=['blue', 'green', 'orange'])"
   ]
  },
  {
   "cell_type": "markdown",
   "metadata": {},
   "source": [
    "Average Weight for a Laptop"
   ]
  },
  {
   "cell_type": "code",
   "execution_count": 31,
   "metadata": {},
   "outputs": [
    {
     "data": {
      "text/plain": [
       "<seaborn.axisgrid.FacetGrid at 0x264faa2fc90>"
      ]
     },
     "execution_count": 31,
     "metadata": {},
     "output_type": "execute_result"
    },
    {
     "data": {
      "text/plain": [
       "<Figure size 1000x600 with 0 Axes>"
      ]
     },
     "metadata": {},
     "output_type": "display_data"
    },
    {
     "data": {
      "image/png": "[encoded data removed]",
      "text/plain": [
       "<Figure size 500x500 with 1 Axes>"
      ]
     },
     "metadata": {},
     "output_type": "display_data"
    }
   ],
   "source": [
    "plt.figure(figsize=(10,6))\n",
    "sns.displot(df['Weight'], kde=True, color='skyblue')"
   ]
  },
  {
   "cell_type": "markdown",
   "metadata": {},
   "source": [
    "Average Price for a Laptop"
   ]
  },
  {
   "cell_type": "code",
   "execution_count": 32,
   "metadata": {},
   "outputs": [
    {
     "data": {
      "text/plain": [
       "<seaborn.axisgrid.FacetGrid at 0x264fab4eed0>"
      ]
     },
     "execution_count": 32,
     "metadata": {},
     "output_type": "execute_result"
    },
    {
     "data": {
      "text/plain": [
       "<Figure size 1000x600 with 0 Axes>"
      ]
     },
     "metadata": {},
     "output_type": "display_data"
    },
    {
     "data": {
      "image/png": "[encoded data removed]",
      "text/plain": [
       "<Figure size 500x500 with 1 Axes>"
      ]
     },
     "metadata": {},
     "output_type": "display_data"
    }
   ],
   "source": [
    "plt.figure(figsize=(10,6))\n",
    "sns.displot(df['Price'], kde=True, color='skyblue')"
   ]
  },
  {
   "cell_type": "markdown",
   "metadata": {},
   "source": [
    "Screen Size vs Price"
   ]
  },
  {
   "cell_type": "code",
   "execution_count": 33,
   "metadata": {},
   "outputs": [
    {
     "data": {
      "text/plain": [
       "<Axes: xlabel='Inches', ylabel='Price'>"
      ]
     },
     "execution_count": 33,
     "metadata": {},
     "output_type": "execute_result"
    },
    {
     "data": {
      "image/png": "[encoded data removed]",
      "text/plain": [
       "<Figure size 640x480 with 1 Axes>"
      ]
     },
     "metadata": {},
     "output_type": "display_data"
    }
   ],
   "source": [
    "# sns.regplot(x='Inches',y='Price', data=df)\n",
    "sns.scatterplot(x='Inches',y='Price',data=df)"
   ]
  },
  {
   "cell_type": "markdown",
   "metadata": {},
   "source": [
    "Weight vs Price"
   ]
  },
  {
   "cell_type": "code",
   "execution_count": 34,
   "metadata": {},
   "outputs": [
    {
     "data": {
      "text/plain": [
       "<Axes: xlabel='Weight', ylabel='Price'>"
      ]
     },
     "execution_count": 34,
     "metadata": {},
     "output_type": "execute_result"
    },
    {
     "data": {
      "image/png": "[encoded data removed]",
      "text/plain": [
       "<Figure size 640x480 with 1 Axes>"
      ]
     },
     "metadata": {},
     "output_type": "display_data"
    }
   ],
   "source": [
    "sns.scatterplot(x='Weight',y='Price',data=df)"
   ]
  },
  {
   "cell_type": "markdown",
   "metadata": {},
   "source": [
    "ML Model"
   ]
  },
  {
   "cell_type": "code",
   "execution_count": 39,
   "metadata": {},
   "outputs": [],
   "source": [
    "from sklearn.model_selection import train_test_split\n",
    "from sklearn.linear_model import LinearRegression\n",
    "from sklearn.metrics import mean_absolute_error\n",
    "from sklearn.preprocessing import StandardScaler\n",
    "from sklearn.decomposition import PCA\n",
    "from sklearn.feature_selection import RFE\n",
    "from sklearn.linear_model import LinearRegression\n",
    "from sklearn.tree import DecisionTreeRegressor\n",
    "from sklearn.ensemble import RandomForestRegressor, GradientBoostingRegressor\n",
    "from sklearn.svm import SVR\n",
    "from sklearn.model_selection import cross_val_score\n",
    "from sklearn.metrics import mean_squared_error\n",
    "from sklearn.metrics import mean_absolute_error, r2_score\n",
    "from sklearn.model_selection import GridSearchCV"
   ]
  },
  {
   "cell_type": "markdown",
   "metadata": {},
   "source": [
    "Data Preprocessing:\n",
    "    Check missing values (remove or input new value), Convert categorical variables like \"TypeOfLaptop,\" \"Cpu,\" \"OpSys\" into numerical representations by one-hot encoding, Normalize or standardize features if needed\n",
    "    "
   ]
  },
  {
   "cell_type": "code",
   "execution_count": 43,
   "metadata": {},
   "outputs": [],
   "source": [
    "df_encoded = pd.get_dummies(df, columns=['TypeOfLaptop', 'Cpu', 'OpSys'], drop_first=True)\n",
    "# encoding for categorical variables"
   ]
  },
  {
   "cell_type": "code",
   "execution_count": 44,
   "metadata": {},
   "outputs": [],
   "source": [
    "# converting 'Ram' to numeric\n",
    "df_encoded['Ram'] = df_encoded['Ram'].astype(str).str.extract('(\\d+)').astype(float, errors='ignore')\n",
    "\n",
    "# converting 'Memory' to numeric \n",
    "df_encoded['Memory'] = df_encoded['Memory'].astype(str).str.extract('(\\d+)').astype(float)\n",
    "\n",
    "# assuming df_encoded includes numerical features desired to be normalized\n",
    "numerical_features = ['Inches', 'Ram', 'Weight', 'Price'] #the list\n",
    "\n",
    "scaler = StandardScaler()\n",
    "\n",
    "df_encoded[numerical_features] = scaler.fit_transform(df_encoded[numerical_features])"
   ]
  },
  {
   "cell_type": "markdown",
   "metadata": {},
   "source": [
    "Data Splitting: Splitting to Testing and Training datasets"
   ]
  },
  {
   "cell_type": "code",
   "execution_count": 51,
   "metadata": {},
   "outputs": [
    {
     "name": "stdout",
     "output_type": "stream",
     "text": [
      "Training set - Features: (800, 37) Traget: (800,)\n",
      "Testing set - Features: (200, 37) Target: (200,)\n"
     ]
    }
   ],
   "source": [
    "# assuming 'df_encoded' is the preprocessed data\n",
    "X = df_encoded.drop('Price', axis=1) # features\n",
    "y = df_encoded['Price'] #target variable\n",
    "\n",
    "X_encoded = pd.get_dummies(X, drop_first=True)\n",
    "# splitting 80% train and 20% test, random_state gives ensured same result\n",
    "X_train, X_test, y_train, y_test = train_test_split(X_encoded, y, test_size=0.2, random_state=42)\n",
    "\n",
    "print(\"Training set - Features:\", X_train.shape, \"Traget:\", y_train.shape)\n",
    "print(\"Testing set - Features:\", x_test.shape, \"Target:\", y_test.shape)"
   ]
  },
  {
   "cell_type": "markdown",
   "metadata": {},
   "source": [
    "Feature Selection: Identify features most relevant to predicting prices. Use techniques like feature importance, correlation analysis, or dimensionality reduction."
   ]
  },
  {
   "cell_type": "code",
   "execution_count": 52,
   "metadata": {},
   "outputs": [
    {
     "name": "stdout",
     "output_type": "stream",
     "text": [
      "                                              Feature  Importance\n",
      "1                                                 Ram    0.200572\n",
      "0                                              Inches    0.149746\n",
      "3                                              Weight    0.147025\n",
      "2                                              Memory    0.053895\n",
      "25                                   CompanyName_Dell    0.050299\n",
      "28                                     CompanyName_hp    0.032920\n",
      "21                                        OpSys_macOS    0.020785\n",
      "22                                  CompanyName_Apple    0.016827\n",
      "31                           ScreenResolution_Full HD    0.016081\n",
      "36                        Gpu_NVIDIA GeForce GTX 1650    0.015773\n",
      "30                                ScreenResolution_4K    0.015045\n",
      "4                        TypeOfLaptop_Business Laptop    0.014632\n",
      "35                         Gpu_Intel Iris Xe Graphics    0.013667\n",
      "18                                        OpSys_No OS    0.013575\n",
      "33  ScreenResolution_IPS Panel Full HD / Touchscre...    0.013511\n",
      "5                                 TypeOfLaptop_Gaming    0.013464\n",
      "8                            TypeOfLaptop_WorkStation    0.012840\n",
      "17                           Cpu_Intel Xeon E3-1505M     0.012724\n",
      "11                            Cpu_Intel Atom x5-Z8550    0.012408\n",
      "9                                     Cpu_AMD Ryzen 5    0.012010\n",
      "19                                   OpSys_Windows 10    0.011559\n",
      "6                               TypeOfLaptop_NoteBook    0.011378\n",
      "7                              TypeOfLaptop_UltraBook    0.011124\n",
      "34  ScreenResolution_IPS Panel Retina Display 2560...    0.010720\n",
      "32                     ScreenResolution_HD 1920x1080     0.010508\n",
      "26                                    CompanyName_MSI    0.010251\n",
      "27                              CompanyName_Microsoft    0.010244\n",
      "20                                   OpSys_Windows 11    0.009613\n",
      "12                 Cpu_Intel Celeron Dual Core 3855U     0.009298\n",
      "13                                  Cpu_Intel Core i5    0.008924\n",
      "24                                  CompanyName_Chuwi    0.008781\n",
      "23                                   CompanyName_Asus    0.008703\n",
      "10                                    Cpu_AMD Ryzen 7    0.008660\n",
      "16                  Cpu_Intel Pentium Quad Core N4200    0.008499\n",
      "15                                  Cpu_Intel Core i9    0.008077\n",
      "14                                  Cpu_Intel Core i7    0.007965\n",
      "29                                 CompanyName_lenevo    0.007893\n"
     ]
    }
   ],
   "source": [
    "model = RandomForestRegressor(random_state=42)\n",
    "model.fit(X_train, y_train)\n",
    "\n",
    "# calculating feature importance\n",
    "feature_importance = pd.DataFrame({'Feature': X_train.columns, 'Importance': model.feature_importances_})\n",
    "feature_importance = feature_importance.sort_values(by='Importance', ascending=False)\n",
    "\n",
    "print(feature_importance)"
   ]
  },
  {
   "cell_type": "markdown",
   "metadata": {},
   "source": [
    "Correlation Analysis: Using correlation coefficients to identify relationships between features and the target variable."
   ]
  },
  {
   "cell_type": "code",
   "execution_count": 53,
   "metadata": {},
   "outputs": [
    {
     "name": "stdout",
     "output_type": "stream",
     "text": [
      "                                      Inches       Ram    Memory    Weight  \\\n",
      "Inches                              1.000000 -0.014286 -0.072276  0.037982   \n",
      "Ram                                -0.014286  1.000000  0.011465 -0.039935   \n",
      "Memory                             -0.072276  0.011465  1.000000 -0.023323   \n",
      "Weight                              0.037982 -0.039935 -0.023323  1.000000   \n",
      "Price                              -0.012535  0.063615  0.060936 -0.024256   \n",
      "TypeOfLaptop_Business Laptop        0.027049 -0.005201  0.001258 -0.029136   \n",
      "TypeOfLaptop_Gaming                -0.029512  0.055038  0.005021 -0.002243   \n",
      "TypeOfLaptop_NoteBook              -0.026505 -0.002650  0.009306 -0.008528   \n",
      "TypeOfLaptop_UltraBook              0.067022 -0.032526 -0.024880  0.042165   \n",
      "TypeOfLaptop_WorkStation           -0.027768  0.003103  0.020914  0.003021   \n",
      "Cpu_AMD Ryzen 5                    -0.034611  0.017105  0.006697 -0.020274   \n",
      "Cpu_AMD Ryzen 7                     0.024632  0.001566  0.018298  0.004803   \n",
      "Cpu_Intel Atom x5-Z8550            -0.011936 -0.016526 -0.018882  0.021952   \n",
      "Cpu_Intel Celeron Dual Core 3855U   0.017251  0.032237 -0.001551  0.022392   \n",
      "Cpu_Intel Core i5                  -0.004718  0.021242 -0.025514  0.003640   \n",
      "Cpu_Intel Core i7                   0.002574  0.007807  0.006083 -0.002063   \n",
      "Cpu_Intel Core i9                   0.012414 -0.012311 -0.005229  0.010747   \n",
      "Cpu_Intel Pentium Quad Core N4200  -0.054960 -0.047808  0.042371  0.042955   \n",
      "Cpu_Intel Xeon E3-1505M             0.029676 -0.031893 -0.023755 -0.066262   \n",
      "OpSys_No OS                        -0.024788 -0.042236  0.003839  0.016699   \n",
      "OpSys_Windows 10                    0.045870  0.041523 -0.005356  0.047776   \n",
      "OpSys_Windows 11                   -0.032318 -0.043306 -0.028922 -0.061299   \n",
      "OpSys_macOS                         0.032233  0.072377  0.024393 -0.008173   \n",
      "\n",
      "                                       Price  TypeOfLaptop_Business Laptop  \\\n",
      "Inches                             -0.012535                      0.027049   \n",
      "Ram                                 0.063615                     -0.005201   \n",
      "Memory                              0.060936                      0.001258   \n",
      "Weight                             -0.024256                     -0.029136   \n",
      "Price                               1.000000                      0.039979   \n",
      "TypeOfLaptop_Business Laptop        0.039979                      1.000000   \n",
      "TypeOfLaptop_Gaming                 0.010832                     -0.207676   \n",
      "TypeOfLaptop_NoteBook              -0.038953                     -0.196425   \n",
      "TypeOfLaptop_UltraBook             -0.039869                     -0.206188   \n",
      "TypeOfLaptop_WorkStation            0.001820                     -0.212855   \n",
      "Cpu_AMD Ryzen 5                    -0.028909                      0.031098   \n",
      "Cpu_AMD Ryzen 7                    -0.014104                      0.022099   \n",
      "Cpu_Intel Atom x5-Z8550             0.039977                     -0.012840   \n",
      "Cpu_Intel Celeron Dual Core 3855U   0.029745                     -0.055183   \n",
      "Cpu_Intel Core i5                  -0.038007                      0.013020   \n",
      "Cpu_Intel Core i7                   0.018757                      0.018755   \n",
      "Cpu_Intel Core i9                  -0.006106                     -0.006448   \n",
      "Cpu_Intel Pentium Quad Core N4200   0.006057                      0.019381   \n",
      "Cpu_Intel Xeon E3-1505M            -0.002640                     -0.041841   \n",
      "OpSys_No OS                        -0.054755                     -0.008969   \n",
      "OpSys_Windows 10                    0.035297                      0.032247   \n",
      "OpSys_Windows 11                   -0.018732                      0.034643   \n",
      "OpSys_macOS                         0.037372                     -0.054249   \n",
      "\n",
      "                                    TypeOfLaptop_Gaming  \\\n",
      "Inches                                        -0.029512   \n",
      "Ram                                            0.055038   \n",
      "Memory                                         0.005021   \n",
      "Weight                                        -0.002243   \n",
      "Price                                          0.010832   \n",
      "TypeOfLaptop_Business Laptop                  -0.207676   \n",
      "TypeOfLaptop_Gaming                            1.000000   \n",
      "TypeOfLaptop_NoteBook                         -0.190984   \n",
      "TypeOfLaptop_UltraBook                        -0.200477   \n",
      "TypeOfLaptop_WorkStation                      -0.206959   \n",
      "Cpu_AMD Ryzen 5                               -0.025590   \n",
      "Cpu_AMD Ryzen 7                               -0.007259   \n",
      "Cpu_Intel Atom x5-Z8550                        0.011512   \n",
      "Cpu_Intel Celeron Dual Core 3855U             -0.013171   \n",
      "Cpu_Intel Core i5                             -0.005584   \n",
      "Cpu_Intel Core i7                             -0.028401   \n",
      "Cpu_Intel Core i9                             -0.027002   \n",
      "Cpu_Intel Pentium Quad Core N4200              0.018037   \n",
      "Cpu_Intel Xeon E3-1505M                        0.049218   \n",
      "OpSys_No OS                                   -0.048963   \n",
      "OpSys_Windows 10                               0.023052   \n",
      "OpSys_Windows 11                              -0.011013   \n",
      "OpSys_macOS                                    0.001345   \n",
      "\n",
      "                                    TypeOfLaptop_NoteBook  \\\n",
      "Inches                                          -0.026505   \n",
      "Ram                                             -0.002650   \n",
      "Memory                                           0.009306   \n",
      "Weight                                          -0.008528   \n",
      "Price                                           -0.038953   \n",
      "TypeOfLaptop_Business Laptop                    -0.196425   \n",
      "TypeOfLaptop_Gaming                             -0.190984   \n",
      "TypeOfLaptop_NoteBook                            1.000000   \n",
      "TypeOfLaptop_UltraBook                          -0.189616   \n",
      "TypeOfLaptop_WorkStation                        -0.195747   \n",
      "Cpu_AMD Ryzen 5                                 -0.003636   \n",
      "Cpu_AMD Ryzen 7                                  0.005883   \n",
      "Cpu_Intel Atom x5-Z8550                          0.000150   \n",
      "Cpu_Intel Celeron Dual Core 3855U               -0.046660   \n",
      "Cpu_Intel Core i5                                0.017534   \n",
      "Cpu_Intel Core i7                               -0.006488   \n",
      "Cpu_Intel Core i9                                0.042301   \n",
      "Cpu_Intel Pentium Quad Core N4200               -0.013395   \n",
      "Cpu_Intel Xeon E3-1505M                          0.013618   \n",
      "OpSys_No OS                                      0.004851   \n",
      "OpSys_Windows 10                                -0.018841   \n",
      "OpSys_Windows 11                                 0.015114   \n",
      "OpSys_macOS                                     -0.003405   \n",
      "\n",
      "                                    TypeOfLaptop_UltraBook  \\\n",
      "Inches                                            0.067022   \n",
      "Ram                                              -0.032526   \n",
      "Memory                                           -0.024880   \n",
      "Weight                                            0.042165   \n",
      "Price                                            -0.039869   \n",
      "TypeOfLaptop_Business Laptop                     -0.206188   \n",
      "TypeOfLaptop_Gaming                              -0.200477   \n",
      "TypeOfLaptop_NoteBook                            -0.189616   \n",
      "TypeOfLaptop_UltraBook                            1.000000   \n",
      "TypeOfLaptop_WorkStation                         -0.205477   \n",
      "Cpu_AMD Ryzen 5                                   0.012856   \n",
      "Cpu_AMD Ryzen 7                                  -0.060819   \n",
      "Cpu_Intel Atom x5-Z8550                          -0.020756   \n",
      "Cpu_Intel Celeron Dual Core 3855U                 0.042775   \n",
      "Cpu_Intel Core i5                                -0.047605   \n",
      "Cpu_Intel Core i7                                -0.008539   \n",
      "Cpu_Intel Core i9                                 0.038772   \n",
      "Cpu_Intel Pentium Quad Core N4200                 0.002087   \n",
      "Cpu_Intel Xeon E3-1505M                           0.034469   \n",
      "OpSys_No OS                                      -0.001186   \n",
      "OpSys_Windows 10                                 -0.021776   \n",
      "OpSys_Windows 11                                  0.019648   \n",
      "OpSys_macOS                                       0.023694   \n",
      "\n",
      "                                    TypeOfLaptop_WorkStation  ...  \\\n",
      "Inches                                             -0.027768  ...   \n",
      "Ram                                                 0.003103  ...   \n",
      "Memory                                              0.020914  ...   \n",
      "Weight                                              0.003021  ...   \n",
      "Price                                               0.001820  ...   \n",
      "TypeOfLaptop_Business Laptop                       -0.212855  ...   \n",
      "TypeOfLaptop_Gaming                                -0.206959  ...   \n",
      "TypeOfLaptop_NoteBook                              -0.195747  ...   \n",
      "TypeOfLaptop_UltraBook                             -0.205477  ...   \n",
      "TypeOfLaptop_WorkStation                            1.000000  ...   \n",
      "Cpu_AMD Ryzen 5                                    -0.013077  ...   \n",
      "Cpu_AMD Ryzen 7                                     0.032015  ...   \n",
      "Cpu_Intel Atom x5-Z8550                            -0.011939  ...   \n",
      "Cpu_Intel Celeron Dual Core 3855U                   0.060636  ...   \n",
      "Cpu_Intel Core i5                                   0.039706  ...   \n",
      "Cpu_Intel Core i7                                  -0.007147  ...   \n",
      "Cpu_Intel Core i9                                  -0.050488  ...   \n",
      "Cpu_Intel Pentium Quad Core N4200                   0.020307  ...   \n",
      "Cpu_Intel Xeon E3-1505M                            -0.040991  ...   \n",
      "OpSys_No OS                                         0.036612  ...   \n",
      "OpSys_Windows 10                                   -0.059567  ...   \n",
      "OpSys_Windows 11                                   -0.053905  ...   \n",
      "OpSys_macOS                                         0.029750  ...   \n",
      "\n",
      "                                    Cpu_Intel Celeron Dual Core 3855U   \\\n",
      "Inches                                                        0.017251   \n",
      "Ram                                                           0.032237   \n",
      "Memory                                                       -0.001551   \n",
      "Weight                                                        0.022392   \n",
      "Price                                                         0.029745   \n",
      "TypeOfLaptop_Business Laptop                                 -0.055183   \n",
      "TypeOfLaptop_Gaming                                          -0.013171   \n",
      "TypeOfLaptop_NoteBook                                        -0.046660   \n",
      "TypeOfLaptop_UltraBook                                        0.042775   \n",
      "TypeOfLaptop_WorkStation                                      0.060636   \n",
      "Cpu_AMD Ryzen 5                                              -0.106172   \n",
      "Cpu_AMD Ryzen 7                                              -0.106172   \n",
      "Cpu_Intel Atom x5-Z8550                                      -0.116472   \n",
      "Cpu_Intel Celeron Dual Core 3855U                             1.000000   \n",
      "Cpu_Intel Core i5                                            -0.112900   \n",
      "Cpu_Intel Core i7                                            -0.107414   \n",
      "Cpu_Intel Core i9                                            -0.106794   \n",
      "Cpu_Intel Pentium Quad Core N4200                            -0.110482   \n",
      "Cpu_Intel Xeon E3-1505M                                      -0.118235   \n",
      "OpSys_No OS                                                   0.000387   \n",
      "OpSys_Windows 10                                             -0.042631   \n",
      "OpSys_Windows 11                                             -0.002190   \n",
      "OpSys_macOS                                                   0.061304   \n",
      "\n",
      "                                    Cpu_Intel Core i5  Cpu_Intel Core i7  \\\n",
      "Inches                                      -0.004718           0.002574   \n",
      "Ram                                          0.021242           0.007807   \n",
      "Memory                                      -0.025514           0.006083   \n",
      "Weight                                       0.003640          -0.002063   \n",
      "Price                                       -0.038007           0.018757   \n",
      "TypeOfLaptop_Business Laptop                 0.013020           0.018755   \n",
      "TypeOfLaptop_Gaming                         -0.005584          -0.028401   \n",
      "TypeOfLaptop_NoteBook                        0.017534          -0.006488   \n",
      "TypeOfLaptop_UltraBook                      -0.047605          -0.008539   \n",
      "TypeOfLaptop_WorkStation                     0.039706          -0.007147   \n",
      "Cpu_AMD Ryzen 5                             -0.110327          -0.104967   \n",
      "Cpu_AMD Ryzen 7                             -0.110327          -0.104967   \n",
      "Cpu_Intel Atom x5-Z8550                     -0.121030          -0.115149   \n",
      "Cpu_Intel Celeron Dual Core 3855U           -0.112900          -0.107414   \n",
      "Cpu_Intel Core i5                            1.000000          -0.111618   \n",
      "Cpu_Intel Core i7                           -0.111618           1.000000   \n",
      "Cpu_Intel Core i9                           -0.110974          -0.105582   \n",
      "Cpu_Intel Pentium Quad Core N4200           -0.114806          -0.109228   \n",
      "Cpu_Intel Xeon E3-1505M                     -0.122862          -0.116893   \n",
      "OpSys_No OS                                  0.050701          -0.012245   \n",
      "OpSys_Windows 10                            -0.011302          -0.005357   \n",
      "OpSys_Windows 11                            -0.012678          -0.007987   \n",
      "OpSys_macOS                                 -0.007848          -0.008405   \n",
      "\n",
      "                                    Cpu_Intel Core i9  \\\n",
      "Inches                                       0.012414   \n",
      "Ram                                         -0.012311   \n",
      "Memory                                      -0.005229   \n",
      "Weight                                       0.010747   \n",
      "Price                                       -0.006106   \n",
      "TypeOfLaptop_Business Laptop                -0.006448   \n",
      "TypeOfLaptop_Gaming                         -0.027002   \n",
      "TypeOfLaptop_NoteBook                        0.042301   \n",
      "TypeOfLaptop_UltraBook                       0.038772   \n",
      "TypeOfLaptop_WorkStation                    -0.050488   \n",
      "Cpu_AMD Ryzen 5                             -0.104361   \n",
      "Cpu_AMD Ryzen 7                             -0.104361   \n",
      "Cpu_Intel Atom x5-Z8550                     -0.114485   \n",
      "Cpu_Intel Celeron Dual Core 3855U           -0.106794   \n",
      "Cpu_Intel Core i5                           -0.110974   \n",
      "Cpu_Intel Core i7                           -0.105582   \n",
      "Cpu_Intel Core i9                            1.000000   \n",
      "Cpu_Intel Pentium Quad Core N4200           -0.108597   \n",
      "Cpu_Intel Xeon E3-1505M                     -0.116218   \n",
      "OpSys_No OS                                  0.022250   \n",
      "OpSys_Windows 10                            -0.003709   \n",
      "OpSys_Windows 11                             0.020419   \n",
      "OpSys_macOS                                 -0.031378   \n",
      "\n",
      "                                    Cpu_Intel Pentium Quad Core N4200  \\\n",
      "Inches                                                      -0.054960   \n",
      "Ram                                                         -0.047808   \n",
      "Memory                                                       0.042371   \n",
      "Weight                                                       0.042955   \n",
      "Price                                                        0.006057   \n",
      "TypeOfLaptop_Business Laptop                                 0.019381   \n",
      "TypeOfLaptop_Gaming                                          0.018037   \n",
      "TypeOfLaptop_NoteBook                                       -0.013395   \n",
      "TypeOfLaptop_UltraBook                                       0.002087   \n",
      "TypeOfLaptop_WorkStation                                     0.020307   \n",
      "Cpu_AMD Ryzen 5                                             -0.107964   \n",
      "Cpu_AMD Ryzen 7                                             -0.107964   \n",
      "Cpu_Intel Atom x5-Z8550                                     -0.118438   \n",
      "Cpu_Intel Celeron Dual Core 3855U                           -0.110482   \n",
      "Cpu_Intel Core i5                                           -0.114806   \n",
      "Cpu_Intel Core i7                                           -0.109228   \n",
      "Cpu_Intel Core i9                                           -0.108597   \n",
      "Cpu_Intel Pentium Quad Core N4200                            1.000000   \n",
      "Cpu_Intel Xeon E3-1505M                                     -0.120231   \n",
      "OpSys_No OS                                                 -0.012927   \n",
      "OpSys_Windows 10                                             0.011800   \n",
      "OpSys_Windows 11                                            -0.041620   \n",
      "OpSys_macOS                                                 -0.000955   \n",
      "\n",
      "                                    Cpu_Intel Xeon E3-1505M   OpSys_No OS  \\\n",
      "Inches                                              0.029676    -0.024788   \n",
      "Ram                                                -0.031893    -0.042236   \n",
      "Memory                                             -0.023755     0.003839   \n",
      "Weight                                             -0.066262     0.016699   \n",
      "Price                                              -0.002640    -0.054755   \n",
      "TypeOfLaptop_Business Laptop                       -0.041841    -0.008969   \n",
      "TypeOfLaptop_Gaming                                 0.049218    -0.048963   \n",
      "TypeOfLaptop_NoteBook                               0.013618     0.004851   \n",
      "TypeOfLaptop_UltraBook                              0.034469    -0.001186   \n",
      "TypeOfLaptop_WorkStation                           -0.040991     0.036612   \n",
      "Cpu_AMD Ryzen 5                                    -0.115541     0.015978   \n",
      "Cpu_AMD Ryzen 7                                    -0.115541    -0.016898   \n",
      "Cpu_Intel Atom x5-Z8550                            -0.126749    -0.021868   \n",
      "Cpu_Intel Celeron Dual Core 3855U                  -0.118235     0.000387   \n",
      "Cpu_Intel Core i5                                  -0.122862     0.050701   \n",
      "Cpu_Intel Core i7                                  -0.116893    -0.012245   \n",
      "Cpu_Intel Core i9                                  -0.116218     0.022250   \n",
      "Cpu_Intel Pentium Quad Core N4200                  -0.120231    -0.012927   \n",
      "Cpu_Intel Xeon E3-1505M                             1.000000    -0.011592   \n",
      "OpSys_No OS                                        -0.011592     1.000000   \n",
      "OpSys_Windows 10                                    0.030906    -0.263589   \n",
      "OpSys_Windows 11                                   -0.025316    -0.248305   \n",
      "OpSys_macOS                                         0.007867    -0.284505   \n",
      "\n",
      "                                    OpSys_Windows 10  OpSys_Windows 11  \\\n",
      "Inches                                      0.045870         -0.032318   \n",
      "Ram                                         0.041523         -0.043306   \n",
      "Memory                                     -0.005356         -0.028922   \n",
      "Weight                                      0.047776         -0.061299   \n",
      "Price                                       0.035297         -0.018732   \n",
      "TypeOfLaptop_Business Laptop                0.032247          0.034643   \n",
      "TypeOfLaptop_Gaming                         0.023052         -0.011013   \n",
      "TypeOfLaptop_NoteBook                      -0.018841          0.015114   \n",
      "TypeOfLaptop_UltraBook                     -0.021776          0.019648   \n",
      "TypeOfLaptop_WorkStation                   -0.059567         -0.053905   \n",
      "Cpu_AMD Ryzen 5                             0.015286          0.004103   \n",
      "Cpu_AMD Ryzen 7                            -0.010711          0.022099   \n",
      "Cpu_Intel Atom x5-Z8550                     0.003752          0.012238   \n",
      "Cpu_Intel Celeron Dual Core 3855U          -0.042631         -0.002190   \n",
      "Cpu_Intel Core i5                          -0.011302         -0.012678   \n",
      "Cpu_Intel Core i7                          -0.005357         -0.007987   \n",
      "Cpu_Intel Core i9                          -0.003709          0.020419   \n",
      "Cpu_Intel Pentium Quad Core N4200           0.011800         -0.041620   \n",
      "Cpu_Intel Xeon E3-1505M                     0.030906         -0.025316   \n",
      "OpSys_No OS                                -0.263589         -0.248305   \n",
      "OpSys_Windows 10                            1.000000         -0.226739   \n",
      "OpSys_Windows 11                           -0.226739          1.000000   \n",
      "OpSys_macOS                                -0.259794         -0.244731   \n",
      "\n",
      "                                    OpSys_macOS  \n",
      "Inches                                 0.032233  \n",
      "Ram                                    0.072377  \n",
      "Memory                                 0.024393  \n",
      "Weight                                -0.008173  \n",
      "Price                                  0.037372  \n",
      "TypeOfLaptop_Business Laptop          -0.054249  \n",
      "TypeOfLaptop_Gaming                    0.001345  \n",
      "TypeOfLaptop_NoteBook                 -0.003405  \n",
      "TypeOfLaptop_UltraBook                 0.023694  \n",
      "TypeOfLaptop_WorkStation               0.029750  \n",
      "Cpu_AMD Ryzen 5                       -0.037998  \n",
      "Cpu_AMD Ryzen 7                        0.028287  \n",
      "Cpu_Intel Atom x5-Z8550                0.036108  \n",
      "Cpu_Intel Celeron Dual Core 3855U      0.061304  \n",
      "Cpu_Intel Core i5                     -0.007848  \n",
      "Cpu_Intel Core i7                     -0.008405  \n",
      "Cpu_Intel Core i9                     -0.031378  \n",
      "Cpu_Intel Pentium Quad Core N4200     -0.000955  \n",
      "Cpu_Intel Xeon E3-1505M                0.007867  \n",
      "OpSys_No OS                           -0.284505  \n",
      "OpSys_Windows 10                      -0.259794  \n",
      "OpSys_Windows 11                      -0.244731  \n",
      "OpSys_macOS                            1.000000  \n",
      "\n",
      "[23 rows x 23 columns]\n"
     ]
    }
   ],
   "source": [
    "# selecting only numeric columns\n",
    "numeric_columns = df_encoded.select_dtypes(include=['number'])\n",
    "\n",
    "# Calculate correlation matrix\n",
    "corr_matrix = numeric_columns.corr()\n",
    "\n",
    "print(corr_matrix)"
   ]
  },
  {
   "cell_type": "markdown",
   "metadata": {},
   "source": [
    "Recursive Feature Elimination (RFE): Using RFE with a model (such as linear regression) to recursively remove the least important features"
   ]
  },
  {
   "cell_type": "code",
   "execution_count": 54,
   "metadata": {},
   "outputs": [],
   "source": [
    "model = LinearRegression()\n",
    "rfe = RFE(model, n_features_to_select=1)\n",
    "X_train_rfe = rfe.fit_transform(X_train, y_train)"
   ]
  },
  {
   "cell_type": "markdown",
   "metadata": {},
   "source": [
    "Dimensionality Reduction: Using techniques such as Principal Component Analysis (PCA) to reduce dimensionality"
   ]
  },
  {
   "cell_type": "code",
   "execution_count": 55,
   "metadata": {},
   "outputs": [
    {
     "name": "stdout",
     "output_type": "stream",
     "text": [
      "[9.99805886e-01 2.87024462e-05 2.68657359e-05 2.65425173e-05\n",
      " 9.19152264e-06 6.11876572e-06 5.87569613e-06 5.35830622e-06\n",
      " 5.19050646e-06 5.10303374e-06 4.95805716e-06 4.82772375e-06\n",
      " 4.65495304e-06 4.50089078e-06 4.38255418e-06 3.88824972e-06\n",
      " 3.60326582e-06 3.42062573e-06 3.31533068e-06 3.11931026e-06\n",
      " 3.05995729e-06 2.96846656e-06 2.92949680e-06 2.71063064e-06\n",
      " 2.67087335e-06 2.64987292e-06 2.60060774e-06 2.56871050e-06\n",
      " 2.45975854e-06 2.38536868e-06 2.27378511e-06 2.15097757e-06\n",
      " 1.04911337e-06 7.54533206e-07 7.04973491e-07 3.06307204e-07\n",
      " 2.51164304e-07]\n"
     ]
    }
   ],
   "source": [
    "pca = PCA(n_components=len(X_train.columns))\n",
    "X_train_pca = pca.fit_transform(X_train)\n",
    "\n",
    "# get explained variance ratio for each component\n",
    "explained_variance_ratio = pca.explained_variance_ratio_\n",
    "print(explained_variance_ratio)"
   ]
  },
  {
   "cell_type": "markdown",
   "metadata": {},
   "source": [
    "Model Selection: Common Algorithms for regression tasks include Linear Regression, Decision Trees, Random Forests, and Gradient Boosting."
   ]
  },
  {
   "cell_type": "code",
   "execution_count": 56,
   "metadata": {},
   "outputs": [
    {
     "name": "stdout",
     "output_type": "stream",
     "text": [
      "LinearRegression: Mean MSE: 0.973158995390142\n",
      "DecisionTreeRegressor: Mean MSE: 1.466912942031452\n",
      "RandomForestRegressor: Mean MSE: 0.8117912334385557\n",
      "GradientBoostingRegressor: Mean MSE: 0.8699491081893086\n",
      "SVR: Mean MSE: 1.0010309461884157\n",
      "Test MSE for the best model: 0.8883650246543651\n"
     ]
    }
   ],
   "source": [
    "models = [\n",
    "    LinearRegression(),\n",
    "    DecisionTreeRegressor(random_state=42),\n",
    "    RandomForestRegressor(random_state=42),\n",
    "    GradientBoostingRegressor(random_state=42),\n",
    "    SVR()\n",
    "]\n",
    "\n",
    "# Evaluating Models by Cross-Validation\n",
    "for model in models: \n",
    "    scores = cross_val_score(model, X_train, y_train, scoring='neg_mean_squared_error', cv=5)\n",
    "    print(f\"{model.__class__.__name__}: Mean MSE: {np.mean(-scores)}\")\n",
    "\n",
    "# Train and evaluate best performing model on test set\n",
    "best_model = RandomForestRegressor(random_state=42)\n",
    "best_model.fit(X_train, y_train)\n",
    "test_predictions = best_model.predict(X_test)\n",
    "test_mse = mean_squared_error(y_test, test_predictions)\n",
    "print(f\"Test MSE for the best model: {test_mse}\")"
   ]
  },
  {
   "cell_type": "markdown",
   "metadata": {},
   "source": [
    "Random Forest Regressor seems to have the lowest mean MSE among the models, making it the best model based on cross-validation results"
   ]
  },
  {
   "cell_type": "markdown",
   "metadata": {},
   "source": [
    "Model Training"
   ]
  },
  {
   "cell_type": "code",
   "execution_count": 57,
   "metadata": {},
   "outputs": [],
   "source": [
    "import plotly.express as px"
   ]
  },
  {
   "cell_type": "code",
   "execution_count": 59,
   "metadata": {},
   "outputs": [
    {
     "data": {
      "application/vnd.plotly.v1+json": {
       "config": {
        "plotlyServerURL": "https://plot.ly"
       },
       "data": [
        {
         "hovertemplate": "Actual=%{x}<br>Predicted=%{y}<extra></extra>",
         "legendgroup": "",
         "marker": {
          "color": "#636efa",
          "symbol": "circle"
         },
         "mode": "markers",
         "name": "",
         "orientation": "v",
         "showlegend": false,
         "type": "scatter",
         "x": [
          0.06526419923233473,
          0.2062217220616007,
          -1.2365787769435375,
          -1.032915669983169,
          0.45770470900862004,
          -1.0204055694136613,
          -1.1247613930515223,
          1.1271172546538373,
          1.3040418812432615,
          -1.457189751526599,
          -0.13082257315243442,
          1.1765153678916065,
          1.2162085639970133,
          -0.17552653354657424,
          -1.4160797040487094,
          0.5152916410744567,
          -1.1983316371580846,
          3.31902083092946,
          0.1741700717592131,
          0.907016344423828,
          -0.30991745007159477,
          -0.4446751692534827,
          1.29459389523118,
          -0.16404825871846523,
          -1.2954746745165064,
          -1.0387875438564815,
          -0.11181030604792931,
          -0.3309045374563262,
          -0.8439084954240658,
          -0.6948949692654164,
          -0.5444142842362004,
          0.11633141171959376,
          -0.9877961026663526,
          0.9247479401065406,
          -0.2252627910527924,
          -1.0959908787998225,
          3.3493990887935063,
          -0.3930437802663877,
          -1.330682461945254,
          -0.8811689107599671,
          0.6235379632164225,
          0.8501720121532472,
          -0.07248772350972028,
          -0.9203193208779954,
          0.7985376440670194,
          0.3204940887937631,
          0.20535487809673317,
          0.7212961078598533,
          -1.0655050619120945,
          -0.4072201447342517,
          1.0136481931859314,
          1.027382194013716,
          -0.3363161257928593,
          -0.08938333377419055,
          2.11628608645206,
          0.1548396580411964,
          -0.9283577806468591,
          -0.49395605808266574,
          2.3398336523946335,
          -0.7933475794556872,
          -1.4297520341283831,
          0.5746486899274138,
          0.20324546229514084,
          -0.6829438765445205,
          -1.4934863918289583,
          1.011372171610695,
          -0.8148898797721787,
          -1.3608227735023597,
          0.7924746420170077,
          -1.217469782561069,
          -0.02888017746508159,
          0.9673417690953016,
          2.693664428333695,
          -1.388272596284586,
          0.7820463414179543,
          -1.2921269978006948,
          0.5801225074949695,
          -0.463116381288628,
          0.35979363405743875,
          -0.25454543240558825,
          -0.18919747904155718,
          -0.7194044341129806,
          -0.41255606993928967,
          0.591521737872639,
          -1.3556841724245476,
          1.3019767143644896,
          0.5309028312370786,
          -1.0246936100135806,
          0.25152530797923217,
          1.2765142163129826,
          4.605351892284034,
          -0.8393680470587109,
          0.8033835085211896,
          -1.471864873637185,
          0.9029607453278996,
          -1.1677768952658698,
          -1.1203085492131037,
          -0.3113270231526405,
          -1.5045065470168153,
          -1.3397434403054762,
          0.9351133905097312,
          -1.1920516642670482,
          -0.32862537969646793,
          0.342689379807485,
          0.573294877798976,
          0.2991391749740169,
          1.0281475818114563,
          0.468442129187578,
          1.2876203363116738,
          -0.43175407107706654,
          0.08348361565473088,
          0.1722866604087826,
          0.8822754840624786,
          1.1938780639325042,
          0.6780817598272626,
          1.331846211169565,
          -0.46163861384754495,
          0.5946836760758675,
          1.0301969514750025,
          0.6648145238098817,
          0.062405478361973965,
          -0.4004866361040651,
          -0.6304098541036837,
          -0.44943796469223873,
          0.5459126454355697,
          -0.6638409645605684,
          0.3573095212084068,
          -1.531133537078544,
          0.050698661837438375,
          -0.7230554665674513,
          -0.3084752869216963,
          -0.7602302081830319,
          0.6770681933268666,
          -0.8225412853195191,
          1.0351851264125265,
          2.964830767673623,
          0.7882730201005439,
          0.5418961722845868,
          -1.5137386824740349,
          1.0987149493752129,
          -0.1013419225467148,
          0.7590163250901023,
          0.33954587638548384,
          -0.9846419048743003,
          -0.9443875770286141,
          1.1168144033631302,
          -0.6632866278110775,
          0.39921669857144876,
          -0.7896253069475733,
          -0.6495575946771921,
          -1.4060859891894348,
          2.600482632570503,
          -0.8092149322245976,
          1.1502544123837926,
          -0.25394363003705234,
          0.6370148070944731,
          -1.3612143625023172,
          0.9938625318279382,
          1.201196848818423,
          1.0854015165533235,
          1.0316548030696144,
          -0.8556224625192208,
          1.0227915484770225,
          -0.2112938034890881,
          0.18250734053668033,
          -0.6733425829191941,
          0.11051755847727372,
          0.7003605379535582,
          0.6282634248777753,
          0.01675343957103708,
          -0.4446836345605148,
          -0.26231444217665073,
          0.16492300735109433,
          -0.1594714904004671,
          0.4101772270866591,
          -0.13763689174025398,
          -0.4847533845031525,
          0.32751279991397975,
          0.5080441947947015,
          -1.029072639375842,
          -1.1808833479115042,
          -0.18022802331733417,
          -1.180015357580873,
          0.41305618848427605,
          -0.876392298067668,
          0.7900808245341654,
          1.1176528552147693,
          -1.542837583055866,
          1.2612700825370953,
          0.18649314649327633,
          -0.683632295275482,
          -1.5230564970741154,
          0.9878819087873808,
          -1.560006412224115,
          0.26954856833801827,
          -0.3507058609912999,
          0.5276741314264072,
          -0.990988250387041,
          0.4357186717014225,
          -0.8372863595764773
         ],
         "xaxis": "x",
         "y": [
          -0.6049421663276673,
          -0.22125628400874853,
          -0.24170424778340494,
          0.748406810360411,
          -0.20451827120252683,
          -0.46417435070663116,
          -0.004680453012840427,
          -0.32248401434249807,
          -0.07373087268979316,
          0.33997753506054423,
          -0.08172456839096891,
          0.3257606706977381,
          -0.24518820710891023,
          -0.25377606262204644,
          -0.055608112950213756,
          -0.2926922998785513,
          0.264754441760286,
          2.164970495959248,
          0.13734295107379024,
          0.3428990004800997,
          -0.34619059509923167,
          0.02537281759910026,
          -0.48362342772660755,
          -0.3585935545760215,
          0.11532697491106492,
          -0.02260611652230148,
          0.08992187274648207,
          -0.061275667727664976,
          -0.38152555033592583,
          0.04168957315994573,
          -0.4664716476051224,
          0.45074610875821475,
          -0.3337663745871349,
          -0.14053434859846298,
          -0.23413713365915306,
          -0.43295776866537095,
          2.3024103263500137,
          -0.3930380491185911,
          -0.1695221272293644,
          -0.17627275895989952,
          0.1214209718791086,
          -0.5200482208463988,
          0.28206955816953183,
          -0.13536077390916487,
          -0.40260911077329503,
          0.4750721390903045,
          -0.12820431803250923,
          0.40001000692266514,
          -0.07909101757457498,
          -0.41248313237535705,
          -0.3733540754037984,
          -0.45655475936491885,
          -0.25461799457575496,
          0.02388750840521046,
          1.888746463601833,
          0.037237715430930456,
          -0.46214368225636193,
          -0.11888680515198369,
          2.3348053676372267,
          -0.31461429700989346,
          -0.13532427331809815,
          -0.31512553846961794,
          -0.1663836826355836,
          -0.3040147617457905,
          0.4463506437242301,
          -0.22796791236030536,
          0.13412992167380478,
          0.4218731717234925,
          0.08818405570015413,
          -0.07667840795555347,
          -0.07493756568448194,
          -0.22907406539981223,
          1.079010176382434,
          -0.39858790297570423,
          -0.17956816764502168,
          0.07448585164634958,
          -0.19475713322241517,
          0.4114685089527811,
          -0.2557061222414371,
          -0.04921257849339474,
          -0.4152580129504947,
          0.31158056377457816,
          -0.005751522910229963,
          -0.31252786898416923,
          0.1029190576948693,
          -0.35902494713196026,
          -0.2709172790397736,
          -0.37831618887242874,
          -0.46666626877035583,
          -0.31701455931329714,
          0.4392150228108769,
          0.49688358051352277,
          -0.1850533740370429,
          0.196613040064742,
          -0.2705740885323501,
          -0.2484693948889698,
          0.2903092312442106,
          -0.5069373664295161,
          -0.2532304242983917,
          -0.6023265322703749,
          -0.04209422552898535,
          -0.4477722242965099,
          -0.5339545943331752,
          0.17189053906124144,
          -0.23581260480960511,
          -0.05910433463266555,
          -0.18778374221311342,
          -0.4871901247197316,
          -0.257245599328294,
          0.28475694535592455,
          -0.3490481666411745,
          -0.09730332008154206,
          -0.1422992263977805,
          0.18304187186173124,
          -0.33428001265605056,
          1.4231930028268693,
          0.16381319930435864,
          -0.4424323028045588,
          -0.0013068149848192933,
          -0.2528287979105339,
          0.04486928735082083,
          -0.3642971445712449,
          -0.02524326047382607,
          -0.0709960785314767,
          -0.21467485008044324,
          -0.285056664943219,
          0.006227046226521122,
          0.21460362161132962,
          -0.19408198837078416,
          0.09550119264643048,
          -0.25418180089418113,
          0.05166614225005477,
          -0.004743006572958344,
          -0.21113125310992223,
          -0.09411311215528372,
          2.4187869293784767,
          -0.17799253283403185,
          -0.019593747644501582,
          0.2885672303249823,
          -0.10093357688714567,
          -0.28307878793492663,
          -0.04732537376170649,
          -0.1934358003036925,
          -0.013653689467188288,
          -0.10456510352425147,
          -0.17556467833646838,
          0.22729043526949508,
          -0.4211834104409715,
          0.2738769587164907,
          -0.5174130929313333,
          -0.3075541362990329,
          1.5299407648934507,
          -0.25133109879019566,
          -0.09867799614350538,
          0.26988061053280776,
          0.21753534265004115,
          -0.049374417660132626,
          0.27967664986514723,
          0.34452873910660403,
          0.16197995250455763,
          -0.22183929389258988,
          0.06391772028134514,
          -0.23897612718295058,
          -0.08400533098074044,
          -0.18619990144724782,
          -0.10436949632244426,
          0.028842325326607476,
          -0.3102877912030304,
          0.27796938816255046,
          0.3691959923751291,
          -0.1892672913986119,
          -0.3881590730789312,
          -0.17123387269750784,
          -0.2378118452137574,
          -0.13019927934972406,
          -0.2667549600795013,
          -0.09880664413226019,
          -0.3377219623026469,
          -0.316906322103712,
          -0.2285488435013255,
          -0.2843409435401279,
          0.11197421939862422,
          0.2748898229656966,
          -0.5068389664378036,
          -0.05884650173061212,
          -0.2697164451922084,
          0.47055311971240066,
          -0.22973860018927295,
          0.11860733550475397,
          -0.22566090925951865,
          -0.09347171848904305,
          -0.3288732003584523,
          -0.47906286236858536,
          -0.4703115807587833,
          -0.02569869195439155,
          -0.1713071231095463,
          -0.19913702546452647,
          -0.4289456857823575,
          0.047152319598740854,
          -0.29146332994723234
         ],
         "yaxis": "y"
        }
       ],
       "layout": {
        "legend": {
         "tracegroupgap": 0
        },
        "template": {
         "data": {
          "bar": [
           {
            "error_x": {
             "color": "#2a3f5f"
            },
            "error_y": {
             "color": "#2a3f5f"
            },
            "marker": {
             "line": {
              "color": "#E5ECF6",
              "width": 0.5
             },
             "pattern": {
              "fillmode": "overlay",
              "size": 10,
              "solidity": 0.2
             }
            },
            "type": "bar"
           }
          ],
          "barpolar": [
           {
            "marker": {
             "line": {
              "color": "#E5ECF6",
              "width": 0.5
             },
             "pattern": {
              "fillmode": "overlay",
              "size": 10,
              "solidity": 0.2
             }
            },
            "type": "barpolar"
           }
          ],
          "carpet": [
           {
            "aaxis": {
             "endlinecolor": "#2a3f5f",
             "gridcolor": "white",
             "linecolor": "white",
             "minorgridcolor": "white",
             "startlinecolor": "#2a3f5f"
            },
            "baxis": {
             "endlinecolor": "#2a3f5f",
             "gridcolor": "white",
             "linecolor": "white",
             "minorgridcolor": "white",
             "startlinecolor": "#2a3f5f"
            },
            "type": "carpet"
           }
          ],
          "choropleth": [
           {
            "colorbar": {
             "outlinewidth": 0,
             "ticks": ""
            },
            "type": "choropleth"
           }
          ],
          "contour": [
           {
            "colorbar": {
             "outlinewidth": 0,
             "ticks": ""
            },
            "colorscale": [
             [
              0,
              "#0d0887"
             ],
             [
              0.1111111111111111,
              "#46039f"
             ],
             [
              0.2222222222222222,
              "#7201a8"
             ],
             [
              0.3333333333333333,
              "#9c179e"
             ],
             [
              0.4444444444444444,
              "#bd3786"
             ],
             [
              0.5555555555555556,
              "#d8576b"
             ],
             [
              0.6666666666666666,
              "#ed7953"
             ],
             [
              0.7777777777777778,
              "#fb9f3a"
             ],
             [
              0.8888888888888888,
              "#fdca26"
             ],
             [
              1,
              "#f0f921"
             ]
            ],
            "type": "contour"
           }
          ],
          "contourcarpet": [
           {
            "colorbar": {
             "outlinewidth": 0,
             "ticks": ""
            },
            "type": "contourcarpet"
           }
          ],
          "heatmap": [
           {
            "colorbar": {
             "outlinewidth": 0,
             "ticks": ""
            },
            "colorscale": [
             [
              0,
              "#0d0887"
             ],
             [
              0.1111111111111111,
              "#46039f"
             ],
             [
              0.2222222222222222,
              "#7201a8"
             ],
             [
              0.3333333333333333,
              "#9c179e"
             ],
             [
              0.4444444444444444,
              "#bd3786"
             ],
             [
              0.5555555555555556,
              "#d8576b"
             ],
             [
              0.6666666666666666,
              "#ed7953"
             ],
             [
              0.7777777777777778,
              "#fb9f3a"
             ],
             [
              0.8888888888888888,
              "#fdca26"
             ],
             [
              1,
              "#f0f921"
             ]
            ],
            "type": "heatmap"
           }
          ],
          "heatmapgl": [
           {
            "colorbar": {
             "outlinewidth": 0,
             "ticks": ""
            },
            "colorscale": [
             [
              0,
              "#0d0887"
             ],
             [
              0.1111111111111111,
              "#46039f"
             ],
             [
              0.2222222222222222,
              "#7201a8"
             ],
             [
              0.3333333333333333,
              "#9c179e"
             ],
             [
              0.4444444444444444,
              "#bd3786"
             ],
             [
              0.5555555555555556,
              "#d8576b"
             ],
             [
              0.6666666666666666,
              "#ed7953"
             ],
             [
              0.7777777777777778,
              "#fb9f3a"
             ],
             [
              0.8888888888888888,
              "#fdca26"
             ],
             [
              1,
              "#f0f921"
             ]
            ],
            "type": "heatmapgl"
           }
          ],
          "histogram": [
           {
            "marker": {
             "pattern": {
              "fillmode": "overlay",
              "size": 10,
              "solidity": 0.2
             }
            },
            "type": "histogram"
           }
          ],
          "histogram2d": [
           {
            "colorbar": {
             "outlinewidth": 0,
             "ticks": ""
            },
            "colorscale": [
             [
              0,
              "#0d0887"
             ],
             [
              0.1111111111111111,
              "#46039f"
             ],
             [
              0.2222222222222222,
              "#7201a8"
             ],
             [
              0.3333333333333333,
              "#9c179e"
             ],
             [
              0.4444444444444444,
              "#bd3786"
             ],
             [
              0.5555555555555556,
              "#d8576b"
             ],
             [
              0.6666666666666666,
              "#ed7953"
             ],
             [
              0.7777777777777778,
              "#fb9f3a"
             ],
             [
              0.8888888888888888,
              "#fdca26"
             ],
             [
              1,
              "#f0f921"
             ]
            ],
            "type": "histogram2d"
           }
          ],
          "histogram2dcontour": [
           {
            "colorbar": {
             "outlinewidth": 0,
             "ticks": ""
            },
            "colorscale": [
             [
              0,
              "#0d0887"
             ],
             [
              0.1111111111111111,
              "#46039f"
             ],
             [
              0.2222222222222222,
              "#7201a8"
             ],
             [
              0.3333333333333333,
              "#9c179e"
             ],
             [
              0.4444444444444444,
              "#bd3786"
             ],
             [
              0.5555555555555556,
              "#d8576b"
             ],
             [
              0.6666666666666666,
              "#ed7953"
             ],
             [
              0.7777777777777778,
              "#fb9f3a"
             ],
             [
              0.8888888888888888,
              "#fdca26"
             ],
             [
              1,
              "#f0f921"
             ]
            ],
            "type": "histogram2dcontour"
           }
          ],
          "mesh3d": [
           {
            "colorbar": {
             "outlinewidth": 0,
             "ticks": ""
            },
            "type": "mesh3d"
           }
          ],
          "parcoords": [
           {
            "line": {
             "colorbar": {
              "outlinewidth": 0,
              "ticks": ""
             }
            },
            "type": "parcoords"
           }
          ],
          "pie": [
           {
            "automargin": true,
            "type": "pie"
           }
          ],
          "scatter": [
           {
            "fillpattern": {
             "fillmode": "overlay",
             "size": 10,
             "solidity": 0.2
            },
            "type": "scatter"
           }
          ],
          "scatter3d": [
           {
            "line": {
             "colorbar": {
              "outlinewidth": 0,
              "ticks": ""
             }
            },
            "marker": {
             "colorbar": {
              "outlinewidth": 0,
              "ticks": ""
             }
            },
            "type": "scatter3d"
           }
          ],
          "scattercarpet": [
           {
            "marker": {
             "colorbar": {
              "outlinewidth": 0,
              "ticks": ""
             }
            },
            "type": "scattercarpet"
           }
          ],
          "scattergeo": [
           {
            "marker": {
             "colorbar": {
              "outlinewidth": 0,
              "ticks": ""
             }
            },
            "type": "scattergeo"
           }
          ],
          "scattergl": [
           {
            "marker": {
             "colorbar": {
              "outlinewidth": 0,
              "ticks": ""
             }
            },
            "type": "scattergl"
           }
          ],
          "scattermapbox": [
           {
            "marker": {
             "colorbar": {
              "outlinewidth": 0,
              "ticks": ""
             }
            },
            "type": "scattermapbox"
           }
          ],
          "scatterpolar": [
           {
            "marker": {
             "colorbar": {
              "outlinewidth": 0,
              "ticks": ""
             }
            },
            "type": "scatterpolar"
           }
          ],
          "scatterpolargl": [
           {
            "marker": {
             "colorbar": {
              "outlinewidth": 0,
              "ticks": ""
             }
            },
            "type": "scatterpolargl"
           }
          ],
          "scatterternary": [
           {
            "marker": {
             "colorbar": {
              "outlinewidth": 0,
              "ticks": ""
             }
            },
            "type": "scatterternary"
           }
          ],
          "surface": [
           {
            "colorbar": {
             "outlinewidth": 0,
             "ticks": ""
            },
            "colorscale": [
             [
              0,
              "#0d0887"
             ],
             [
              0.1111111111111111,
              "#46039f"
             ],
             [
              0.2222222222222222,
              "#7201a8"
             ],
             [
              0.3333333333333333,
              "#9c179e"
             ],
             [
              0.4444444444444444,
              "#bd3786"
             ],
             [
              0.5555555555555556,
              "#d8576b"
             ],
             [
              0.6666666666666666,
              "#ed7953"
             ],
             [
              0.7777777777777778,
              "#fb9f3a"
             ],
             [
              0.8888888888888888,
              "#fdca26"
             ],
             [
              1,
              "#f0f921"
             ]
            ],
            "type": "surface"
           }
          ],
          "table": [
           {
            "cells": {
             "fill": {
              "color": "#EBF0F8"
             },
             "line": {
              "color": "white"
             }
            },
            "header": {
             "fill": {
              "color": "#C8D4E3"
             },
             "line": {
              "color": "white"
             }
            },
            "type": "table"
           }
          ]
         },
         "layout": {
          "annotationdefaults": {
           "arrowcolor": "#2a3f5f",
           "arrowhead": 0,
           "arrowwidth": 1
          },
          "autotypenumbers": "strict",
          "coloraxis": {
           "colorbar": {
            "outlinewidth": 0,
            "ticks": ""
           }
          },
          "colorscale": {
           "diverging": [
            [
             0,
             "#8e0152"
            ],
            [
             0.1,
             "#c51b7d"
            ],
            [
             0.2,
             "#de77ae"
            ],
            [
             0.3,
             "#f1b6da"
            ],
            [
             0.4,
             "#fde0ef"
            ],
            [
             0.5,
             "#f7f7f7"
            ],
            [
             0.6,
             "#e6f5d0"
            ],
            [
             0.7,
             "#b8e186"
            ],
            [
             0.8,
             "#7fbc41"
            ],
            [
             0.9,
             "#4d9221"
            ],
            [
             1,
             "#276419"
            ]
           ],
           "sequential": [
            [
             0,
             "#0d0887"
            ],
            [
             0.1111111111111111,
             "#46039f"
            ],
            [
             0.2222222222222222,
             "#7201a8"
            ],
            [
             0.3333333333333333,
             "#9c179e"
            ],
            [
             0.4444444444444444,
             "#bd3786"
            ],
            [
             0.5555555555555556,
             "#d8576b"
            ],
            [
             0.6666666666666666,
             "#ed7953"
            ],
            [
             0.7777777777777778,
             "#fb9f3a"
            ],
            [
             0.8888888888888888,
             "#fdca26"
            ],
            [
             1,
             "#f0f921"
            ]
           ],
           "sequentialminus": [
            [
             0,
             "#0d0887"
            ],
            [
             0.1111111111111111,
             "#46039f"
            ],
            [
             0.2222222222222222,
             "#7201a8"
            ],
            [
             0.3333333333333333,
             "#9c179e"
            ],
            [
             0.4444444444444444,
             "#bd3786"
            ],
            [
             0.5555555555555556,
             "#d8576b"
            ],
            [
             0.6666666666666666,
             "#ed7953"
            ],
            [
             0.7777777777777778,
             "#fb9f3a"
            ],
            [
             0.8888888888888888,
             "#fdca26"
            ],
            [
             1,
             "#f0f921"
            ]
           ]
          },
          "colorway": [
           "#636efa",
           "#EF553B",
           "#00cc96",
           "#ab63fa",
           "#FFA15A",
           "#19d3f3",
           "#FF6692",
           "#B6E880",
           "#FF97FF",
           "#FECB52"
          ],
          "font": {
           "color": "#2a3f5f"
          },
          "geo": {
           "bgcolor": "white",
           "lakecolor": "white",
           "landcolor": "#E5ECF6",
           "showlakes": true,
           "showland": true,
           "subunitcolor": "white"
          },
          "hoverlabel": {
           "align": "left"
          },
          "hovermode": "closest",
          "mapbox": {
           "style": "light"
          },
          "paper_bgcolor": "white",
          "plot_bgcolor": "#E5ECF6",
          "polar": {
           "angularaxis": {
            "gridcolor": "white",
            "linecolor": "white",
            "ticks": ""
           },
           "bgcolor": "#E5ECF6",
           "radialaxis": {
            "gridcolor": "white",
            "linecolor": "white",
            "ticks": ""
           }
          },
          "scene": {
           "xaxis": {
            "backgroundcolor": "#E5ECF6",
            "gridcolor": "white",
            "gridwidth": 2,
            "linecolor": "white",
            "showbackground": true,
            "ticks": "",
            "zerolinecolor": "white"
           },
           "yaxis": {
            "backgroundcolor": "#E5ECF6",
            "gridcolor": "white",
            "gridwidth": 2,
            "linecolor": "white",
            "showbackground": true,
            "ticks": "",
            "zerolinecolor": "white"
           },
           "zaxis": {
            "backgroundcolor": "#E5ECF6",
            "gridcolor": "white",
            "gridwidth": 2,
            "linecolor": "white",
            "showbackground": true,
            "ticks": "",
            "zerolinecolor": "white"
           }
          },
          "shapedefaults": {
           "line": {
            "color": "#2a3f5f"
           }
          },
          "ternary": {
           "aaxis": {
            "gridcolor": "white",
            "linecolor": "white",
            "ticks": ""
           },
           "baxis": {
            "gridcolor": "white",
            "linecolor": "white",
            "ticks": ""
           },
           "bgcolor": "#E5ECF6",
           "caxis": {
            "gridcolor": "white",
            "linecolor": "white",
            "ticks": ""
           }
          },
          "title": {
           "x": 0.05
          },
          "xaxis": {
           "automargin": true,
           "gridcolor": "white",
           "linecolor": "white",
           "ticks": "",
           "title": {
            "standoff": 15
           },
           "zerolinecolor": "white",
           "zerolinewidth": 2
          },
          "yaxis": {
           "automargin": true,
           "gridcolor": "white",
           "linecolor": "white",
           "ticks": "",
           "title": {
            "standoff": 15
           },
           "zerolinecolor": "white",
           "zerolinewidth": 2
          }
         }
        },
        "title": {
         "text": "Actual vs Predicted Prices"
        },
        "xaxis": {
         "anchor": "y",
         "domain": [
          0,
          1
         ],
         "title": {
          "text": "Actual Prices"
         }
        },
        "yaxis": {
         "anchor": "x",
         "domain": [
          0,
          1
         ],
         "title": {
          "text": "Predicted Prices"
         }
        }
       }
      }
     },
     "metadata": {},
     "output_type": "display_data"
    },
    {
     "name": "stdout",
     "output_type": "stream",
     "text": [
      "Mean Absolute Error (MAE): 0.7793732985875605\n",
      "Mean Squared Error (MSE): 0.8883650246543651\n",
      "R-squared (R2): 0.17054512585754167\n"
     ]
    }
   ],
   "source": [
    "model = RandomForestRegressor(random_state=42)\n",
    "\n",
    "model.fit(X_train, y_train)\n",
    "\n",
    "test_predictions = best_model.predict(X_test)\n",
    "\n",
    "# evaluate performance of the best performing model\n",
    "mae = mean_absolute_error(y_test, test_predictions)\n",
    "mse = mean_squared_error(y_test, test_predictions)\n",
    "r_squared = r2_score(y_test, test_predictions)\n",
    "\n",
    "# create dataframe to hold actual and predicted prices\n",
    "results_df = pd.DataFrame({'Actual': y_test, 'Predicted': test_predictions})\n",
    "\n",
    "fig = px.scatter(results_df, x='Actual', y='Predicted', title='Actual vs Predicted Prices')\n",
    "fig.update_layout(xaxis_title='Actual Prices', yaxis_title='Predicted Prices')\n",
    "fig.show()\n",
    "\n",
    "print(f\"Mean Absolute Error (MAE): {mae}\")\n",
    "print(f\"Mean Squared Error (MSE): {mse}\")\n",
    "print(f\"R-squared (R2): {r_squared}\")"
   ]
  },
  {
   "cell_type": "code",
   "execution_count": 60,
   "metadata": {},
   "outputs": [
    {
     "name": "stdout",
     "output_type": "stream",
     "text": [
      "Best Hyperparameters: {'max_depth': 10, 'min_samples_leaf': 4, 'min_samples_split': 10, 'n_estimators': 200}\n"
     ]
    },
    {
     "data": {
      "application/vnd.plotly.v1+json": {
       "config": {
        "plotlyServerURL": "https://plot.ly"
       },
       "data": [
        {
         "hovertemplate": "Actual=%{x}<br>Predicted=%{y}<extra></extra>",
         "legendgroup": "",
         "marker": {
          "color": "#636efa",
          "symbol": "circle"
         },
         "mode": "markers",
         "name": "",
         "orientation": "v",
         "showlegend": false,
         "type": "scatter",
         "x": [
          0.06526419923233473,
          0.2062217220616007,
          -1.2365787769435375,
          -1.032915669983169,
          0.45770470900862004,
          -1.0204055694136613,
          -1.1247613930515223,
          1.1271172546538373,
          1.3040418812432615,
          -1.457189751526599,
          -0.13082257315243442,
          1.1765153678916065,
          1.2162085639970133,
          -0.17552653354657424,
          -1.4160797040487094,
          0.5152916410744567,
          -1.1983316371580846,
          3.31902083092946,
          0.1741700717592131,
          0.907016344423828,
          -0.30991745007159477,
          -0.4446751692534827,
          1.29459389523118,
          -0.16404825871846523,
          -1.2954746745165064,
          -1.0387875438564815,
          -0.11181030604792931,
          -0.3309045374563262,
          -0.8439084954240658,
          -0.6948949692654164,
          -0.5444142842362004,
          0.11633141171959376,
          -0.9877961026663526,
          0.9247479401065406,
          -0.2252627910527924,
          -1.0959908787998225,
          3.3493990887935063,
          -0.3930437802663877,
          -1.330682461945254,
          -0.8811689107599671,
          0.6235379632164225,
          0.8501720121532472,
          -0.07248772350972028,
          -0.9203193208779954,
          0.7985376440670194,
          0.3204940887937631,
          0.20535487809673317,
          0.7212961078598533,
          -1.0655050619120945,
          -0.4072201447342517,
          1.0136481931859314,
          1.027382194013716,
          -0.3363161257928593,
          -0.08938333377419055,
          2.11628608645206,
          0.1548396580411964,
          -0.9283577806468591,
          -0.49395605808266574,
          2.3398336523946335,
          -0.7933475794556872,
          -1.4297520341283831,
          0.5746486899274138,
          0.20324546229514084,
          -0.6829438765445205,
          -1.4934863918289583,
          1.011372171610695,
          -0.8148898797721787,
          -1.3608227735023597,
          0.7924746420170077,
          -1.217469782561069,
          -0.02888017746508159,
          0.9673417690953016,
          2.693664428333695,
          -1.388272596284586,
          0.7820463414179543,
          -1.2921269978006948,
          0.5801225074949695,
          -0.463116381288628,
          0.35979363405743875,
          -0.25454543240558825,
          -0.18919747904155718,
          -0.7194044341129806,
          -0.41255606993928967,
          0.591521737872639,
          -1.3556841724245476,
          1.3019767143644896,
          0.5309028312370786,
          -1.0246936100135806,
          0.25152530797923217,
          1.2765142163129826,
          4.605351892284034,
          -0.8393680470587109,
          0.8033835085211896,
          -1.471864873637185,
          0.9029607453278996,
          -1.1677768952658698,
          -1.1203085492131037,
          -0.3113270231526405,
          -1.5045065470168153,
          -1.3397434403054762,
          0.9351133905097312,
          -1.1920516642670482,
          -0.32862537969646793,
          0.342689379807485,
          0.573294877798976,
          0.2991391749740169,
          1.0281475818114563,
          0.468442129187578,
          1.2876203363116738,
          -0.43175407107706654,
          0.08348361565473088,
          0.1722866604087826,
          0.8822754840624786,
          1.1938780639325042,
          0.6780817598272626,
          1.331846211169565,
          -0.46163861384754495,
          0.5946836760758675,
          1.0301969514750025,
          0.6648145238098817,
          0.062405478361973965,
          -0.4004866361040651,
          -0.6304098541036837,
          -0.44943796469223873,
          0.5459126454355697,
          -0.6638409645605684,
          0.3573095212084068,
          -1.531133537078544,
          0.050698661837438375,
          -0.7230554665674513,
          -0.3084752869216963,
          -0.7602302081830319,
          0.6770681933268666,
          -0.8225412853195191,
          1.0351851264125265,
          2.964830767673623,
          0.7882730201005439,
          0.5418961722845868,
          -1.5137386824740349,
          1.0987149493752129,
          -0.1013419225467148,
          0.7590163250901023,
          0.33954587638548384,
          -0.9846419048743003,
          -0.9443875770286141,
          1.1168144033631302,
          -0.6632866278110775,
          0.39921669857144876,
          -0.7896253069475733,
          -0.6495575946771921,
          -1.4060859891894348,
          2.600482632570503,
          -0.8092149322245976,
          1.1502544123837926,
          -0.25394363003705234,
          0.6370148070944731,
          -1.3612143625023172,
          0.9938625318279382,
          1.201196848818423,
          1.0854015165533235,
          1.0316548030696144,
          -0.8556224625192208,
          1.0227915484770225,
          -0.2112938034890881,
          0.18250734053668033,
          -0.6733425829191941,
          0.11051755847727372,
          0.7003605379535582,
          0.6282634248777753,
          0.01675343957103708,
          -0.4446836345605148,
          -0.26231444217665073,
          0.16492300735109433,
          -0.1594714904004671,
          0.4101772270866591,
          -0.13763689174025398,
          -0.4847533845031525,
          0.32751279991397975,
          0.5080441947947015,
          -1.029072639375842,
          -1.1808833479115042,
          -0.18022802331733417,
          -1.180015357580873,
          0.41305618848427605,
          -0.876392298067668,
          0.7900808245341654,
          1.1176528552147693,
          -1.542837583055866,
          1.2612700825370953,
          0.18649314649327633,
          -0.683632295275482,
          -1.5230564970741154,
          0.9878819087873808,
          -1.560006412224115,
          0.26954856833801827,
          -0.3507058609912999,
          0.5276741314264072,
          -0.990988250387041,
          0.4357186717014225,
          -0.8372863595764773
         ],
         "xaxis": "x",
         "y": [
          -0.406498720579672,
          -0.18864572172439104,
          -0.15592182974058832,
          0.4586809218339147,
          -0.16990581658748277,
          -0.4509214279244443,
          -0.12718981901218115,
          -0.29921669024529474,
          -0.16432303418746474,
          0.16709751365526393,
          -0.11108462749945824,
          0.27311265826390996,
          -0.1446457078146931,
          -0.10873055090987226,
          -0.01528704992693061,
          -0.2529177838194185,
          0.4155175392250644,
          2.20187864388011,
          0.13867803373571708,
          0.306290688747267,
          -0.34264127309464676,
          0.01382456189347657,
          -0.3322537321721466,
          -0.26388001359686103,
          -0.06559933365159937,
          -0.3381886814632664,
          -0.04764991017256836,
          -0.18726052881442098,
          -0.3114900783145017,
          0.14386931630815186,
          -0.3272580737258852,
          0.25117460203953274,
          -0.2995642762831576,
          -0.12059027098182121,
          -0.2256966735684069,
          -0.38656437956843187,
          1.7925955111398664,
          -0.40220812918221527,
          -0.11518390480033712,
          -0.2378944679877568,
          -0.038794733329774254,
          -0.34341014950475923,
          0.4656406907609728,
          -0.18297382125378092,
          -0.26706691747018096,
          0.1716950259296239,
          -0.2461530962566244,
          0.12290390393366285,
          -0.17183432965985723,
          -0.7282368699689947,
          -0.24058572755186064,
          -0.38402696397333663,
          -0.17702432368125204,
          0.0792996991854826,
          1.809063431787969,
          -0.024490080732883533,
          -0.40101996708461124,
          -0.1923847287163125,
          2.34528333131245,
          -0.2786437072608629,
          -0.1631825431885661,
          -0.3787001459471997,
          -0.1993421037069196,
          -0.23563781064920572,
          0.23732597915715167,
          -0.1968124067479571,
          0.1732364750999562,
          0.3007202938238701,
          0.043344115867423545,
          0.05538343234589975,
          -0.037849971778085766,
          -0.11303599675280587,
          0.4204574286103594,
          -0.26651124208972143,
          -0.2538112206396145,
          -0.10275135762416494,
          -0.21874220771276476,
          0.4816750295774299,
          -0.24132702161443276,
          0.2620762534771335,
          -0.23173199001341402,
          0.27825531532031295,
          -0.04209935795104651,
          -0.3092953124588141,
          0.0832399043733676,
          -0.421378627957831,
          -0.337208492680132,
          -0.39486026686763787,
          -0.3818373278710871,
          -0.19396437521518323,
          0.24493404715235617,
          0.4912295484600392,
          -0.10725720974551253,
          0.04261182140508058,
          -0.30695809767652105,
          -0.19539134823612023,
          0.1713344833003224,
          -0.5228362549976839,
          -0.29859370564445475,
          -0.44778951568210706,
          -0.06774739366787122,
          -0.2601964673143184,
          -0.35102377410136115,
          0.07272520121500115,
          -0.32755459450815755,
          -0.017527346573622718,
          -0.10747246132581115,
          -0.35266392441546107,
          -0.1313867553363808,
          0.16134526443619215,
          -0.3020675155854663,
          -0.24233435154765068,
          -0.13205200445590803,
          0.036731413224610224,
          -0.3350151892645764,
          1.3393972197598698,
          0.06306343915174827,
          -0.48700124624194624,
          0.11193663472718673,
          -0.22874340757745237,
          0.020380837961225282,
          -0.25120973446823486,
          -0.09452210562069738,
          -0.12298099010147182,
          -0.2058146731173149,
          -0.07856670793657435,
          -0.23599891996513483,
          0.23493278471253012,
          -0.22156578223628284,
          -0.057548230514870236,
          -0.13845615265974975,
          -0.005056903284658293,
          -0.1797631088306724,
          -0.16963090328029617,
          -0.012988238099328817,
          2.3706012248171775,
          -0.07022439180545872,
          -0.2605183854165583,
          0.0989490255754944,
          -0.0842999332902963,
          -0.31869738221696303,
          -0.25867150020041507,
          -0.12725634096976568,
          -0.13109218214272322,
          -0.24700777708958482,
          -0.07071381458475737,
          0.1040667702662858,
          -0.31310833660822124,
          0.17721510259747883,
          -0.40509138767632924,
          -0.16126204959470755,
          1.5737910134201072,
          -0.30420556451545033,
          -0.16385496667928884,
          0.010468780229708145,
          0.21325152981224121,
          -0.2338846942865358,
          0.17462323468030092,
          0.14502575822749042,
          0.09936141464290214,
          -0.13003516669659598,
          -0.08730753958890794,
          -0.20590593997112383,
          -0.1527514123759181,
          -0.1934277166493181,
          -0.2672913673110061,
          -0.10452126306019593,
          -0.31520579098011015,
          0.18896785061152335,
          0.2028164722733984,
          -0.21833059328039134,
          -0.45043240517368766,
          -0.2864290460990359,
          -0.1569222415803773,
          -0.2911217583663902,
          -0.16183301502113864,
          -0.08029317936978847,
          -0.3711378259231503,
          -0.24994450166448132,
          -0.23674615119588208,
          -0.2045351479513235,
          -0.021011580732617097,
          0.21198447304281326,
          -0.4825360555618012,
          -0.09967778583671456,
          -0.25187512020440567,
          0.3128919785844852,
          -0.4251313616472976,
          0.08297398903559676,
          -0.35290629662792866,
          -0.11582819200822199,
          -0.28377841661628417,
          -0.42400865118071224,
          -0.4213467709302244,
          -0.13105206442435152,
          -0.05838361731398159,
          -0.1168113627629094,
          -0.240716047365676,
          -0.09221318326021885,
          -0.12679563165753918
         ],
         "yaxis": "y"
        }
       ],
       "layout": {
        "legend": {
         "tracegroupgap": 0
        },
        "template": {
         "data": {
          "bar": [
           {
            "error_x": {
             "color": "#2a3f5f"
            },
            "error_y": {
             "color": "#2a3f5f"
            },
            "marker": {
             "line": {
              "color": "#E5ECF6",
              "width": 0.5
             },
             "pattern": {
              "fillmode": "overlay",
              "size": 10,
              "solidity": 0.2
             }
            },
            "type": "bar"
           }
          ],
          "barpolar": [
           {
            "marker": {
             "line": {
              "color": "#E5ECF6",
              "width": 0.5
             },
             "pattern": {
              "fillmode": "overlay",
              "size": 10,
              "solidity": 0.2
             }
            },
            "type": "barpolar"
           }
          ],
          "carpet": [
           {
            "aaxis": {
             "endlinecolor": "#2a3f5f",
             "gridcolor": "white",
             "linecolor": "white",
             "minorgridcolor": "white",
             "startlinecolor": "#2a3f5f"
            },
            "baxis": {
             "endlinecolor": "#2a3f5f",
             "gridcolor": "white",
             "linecolor": "white",
             "minorgridcolor": "white",
             "startlinecolor": "#2a3f5f"
            },
            "type": "carpet"
           }
          ],
          "choropleth": [
           {
            "colorbar": {
             "outlinewidth": 0,
             "ticks": ""
            },
            "type": "choropleth"
           }
          ],
          "contour": [
           {
            "colorbar": {
             "outlinewidth": 0,
             "ticks": ""
            },
            "colorscale": [
             [
              0,
              "#0d0887"
             ],
             [
              0.1111111111111111,
              "#46039f"
             ],
             [
              0.2222222222222222,
              "#7201a8"
             ],
             [
              0.3333333333333333,
              "#9c179e"
             ],
             [
              0.4444444444444444,
              "#bd3786"
             ],
             [
              0.5555555555555556,
              "#d8576b"
             ],
             [
              0.6666666666666666,
              "#ed7953"
             ],
             [
              0.7777777777777778,
              "#fb9f3a"
             ],
             [
              0.8888888888888888,
              "#fdca26"
             ],
             [
              1,
              "#f0f921"
             ]
            ],
            "type": "contour"
           }
          ],
          "contourcarpet": [
           {
            "colorbar": {
             "outlinewidth": 0,
             "ticks": ""
            },
            "type": "contourcarpet"
           }
          ],
          "heatmap": [
           {
            "colorbar": {
             "outlinewidth": 0,
             "ticks": ""
            },
            "colorscale": [
             [
              0,
              "#0d0887"
             ],
             [
              0.1111111111111111,
              "#46039f"
             ],
             [
              0.2222222222222222,
              "#7201a8"
             ],
             [
              0.3333333333333333,
              "#9c179e"
             ],
             [
              0.4444444444444444,
              "#bd3786"
             ],
             [
              0.5555555555555556,
              "#d8576b"
             ],
             [
              0.6666666666666666,
              "#ed7953"
             ],
             [
              0.7777777777777778,
              "#fb9f3a"
             ],
             [
              0.8888888888888888,
              "#fdca26"
             ],
             [
              1,
              "#f0f921"
             ]
            ],
            "type": "heatmap"
           }
          ],
          "heatmapgl": [
           {
            "colorbar": {
             "outlinewidth": 0,
             "ticks": ""
            },
            "colorscale": [
             [
              0,
              "#0d0887"
             ],
             [
              0.1111111111111111,
              "#46039f"
             ],
             [
              0.2222222222222222,
              "#7201a8"
             ],
             [
              0.3333333333333333,
              "#9c179e"
             ],
             [
              0.4444444444444444,
              "#bd3786"
             ],
             [
              0.5555555555555556,
              "#d8576b"
             ],
             [
              0.6666666666666666,
              "#ed7953"
             ],
             [
              0.7777777777777778,
              "#fb9f3a"
             ],
             [
              0.8888888888888888,
              "#fdca26"
             ],
             [
              1,
              "#f0f921"
             ]
            ],
            "type": "heatmapgl"
           }
          ],
          "histogram": [
           {
            "marker": {
             "pattern": {
              "fillmode": "overlay",
              "size": 10,
              "solidity": 0.2
             }
            },
            "type": "histogram"
           }
          ],
          "histogram2d": [
           {
            "colorbar": {
             "outlinewidth": 0,
             "ticks": ""
            },
            "colorscale": [
             [
              0,
              "#0d0887"
             ],
             [
              0.1111111111111111,
              "#46039f"
             ],
             [
              0.2222222222222222,
              "#7201a8"
             ],
             [
              0.3333333333333333,
              "#9c179e"
             ],
             [
              0.4444444444444444,
              "#bd3786"
             ],
             [
              0.5555555555555556,
              "#d8576b"
             ],
             [
              0.6666666666666666,
              "#ed7953"
             ],
             [
              0.7777777777777778,
              "#fb9f3a"
             ],
             [
              0.8888888888888888,
              "#fdca26"
             ],
             [
              1,
              "#f0f921"
             ]
            ],
            "type": "histogram2d"
           }
          ],
          "histogram2dcontour": [
           {
            "colorbar": {
             "outlinewidth": 0,
             "ticks": ""
            },
            "colorscale": [
             [
              0,
              "#0d0887"
             ],
             [
              0.1111111111111111,
              "#46039f"
             ],
             [
              0.2222222222222222,
              "#7201a8"
             ],
             [
              0.3333333333333333,
              "#9c179e"
             ],
             [
              0.4444444444444444,
              "#bd3786"
             ],
             [
              0.5555555555555556,
              "#d8576b"
             ],
             [
              0.6666666666666666,
              "#ed7953"
             ],
             [
              0.7777777777777778,
              "#fb9f3a"
             ],
             [
              0.8888888888888888,
              "#fdca26"
             ],
             [
              1,
              "#f0f921"
             ]
            ],
            "type": "histogram2dcontour"
           }
          ],
          "mesh3d": [
           {
            "colorbar": {
             "outlinewidth": 0,
             "ticks": ""
            },
            "type": "mesh3d"
           }
          ],
          "parcoords": [
           {
            "line": {
             "colorbar": {
              "outlinewidth": 0,
              "ticks": ""
             }
            },
            "type": "parcoords"
           }
          ],
          "pie": [
           {
            "automargin": true,
            "type": "pie"
           }
          ],
          "scatter": [
           {
            "fillpattern": {
             "fillmode": "overlay",
             "size": 10,
             "solidity": 0.2
            },
            "type": "scatter"
           }
          ],
          "scatter3d": [
           {
            "line": {
             "colorbar": {
              "outlinewidth": 0,
              "ticks": ""
             }
            },
            "marker": {
             "colorbar": {
              "outlinewidth": 0,
              "ticks": ""
             }
            },
            "type": "scatter3d"
           }
          ],
          "scattercarpet": [
           {
            "marker": {
             "colorbar": {
              "outlinewidth": 0,
              "ticks": ""
             }
            },
            "type": "scattercarpet"
           }
          ],
          "scattergeo": [
           {
            "marker": {
             "colorbar": {
              "outlinewidth": 0,
              "ticks": ""
             }
            },
            "type": "scattergeo"
           }
          ],
          "scattergl": [
           {
            "marker": {
             "colorbar": {
              "outlinewidth": 0,
              "ticks": ""
             }
            },
            "type": "scattergl"
           }
          ],
          "scattermapbox": [
           {
            "marker": {
             "colorbar": {
              "outlinewidth": 0,
              "ticks": ""
             }
            },
            "type": "scattermapbox"
           }
          ],
          "scatterpolar": [
           {
            "marker": {
             "colorbar": {
              "outlinewidth": 0,
              "ticks": ""
             }
            },
            "type": "scatterpolar"
           }
          ],
          "scatterpolargl": [
           {
            "marker": {
             "colorbar": {
              "outlinewidth": 0,
              "ticks": ""
             }
            },
            "type": "scatterpolargl"
           }
          ],
          "scatterternary": [
           {
            "marker": {
             "colorbar": {
              "outlinewidth": 0,
              "ticks": ""
             }
            },
            "type": "scatterternary"
           }
          ],
          "surface": [
           {
            "colorbar": {
             "outlinewidth": 0,
             "ticks": ""
            },
            "colorscale": [
             [
              0,
              "#0d0887"
             ],
             [
              0.1111111111111111,
              "#46039f"
             ],
             [
              0.2222222222222222,
              "#7201a8"
             ],
             [
              0.3333333333333333,
              "#9c179e"
             ],
             [
              0.4444444444444444,
              "#bd3786"
             ],
             [
              0.5555555555555556,
              "#d8576b"
             ],
             [
              0.6666666666666666,
              "#ed7953"
             ],
             [
              0.7777777777777778,
              "#fb9f3a"
             ],
             [
              0.8888888888888888,
              "#fdca26"
             ],
             [
              1,
              "#f0f921"
             ]
            ],
            "type": "surface"
           }
          ],
          "table": [
           {
            "cells": {
             "fill": {
              "color": "#EBF0F8"
             },
             "line": {
              "color": "white"
             }
            },
            "header": {
             "fill": {
              "color": "#C8D4E3"
             },
             "line": {
              "color": "white"
             }
            },
            "type": "table"
           }
          ]
         },
         "layout": {
          "annotationdefaults": {
           "arrowcolor": "#2a3f5f",
           "arrowhead": 0,
           "arrowwidth": 1
          },
          "autotypenumbers": "strict",
          "coloraxis": {
           "colorbar": {
            "outlinewidth": 0,
            "ticks": ""
           }
          },
          "colorscale": {
           "diverging": [
            [
             0,
             "#8e0152"
            ],
            [
             0.1,
             "#c51b7d"
            ],
            [
             0.2,
             "#de77ae"
            ],
            [
             0.3,
             "#f1b6da"
            ],
            [
             0.4,
             "#fde0ef"
            ],
            [
             0.5,
             "#f7f7f7"
            ],
            [
             0.6,
             "#e6f5d0"
            ],
            [
             0.7,
             "#b8e186"
            ],
            [
             0.8,
             "#7fbc41"
            ],
            [
             0.9,
             "#4d9221"
            ],
            [
             1,
             "#276419"
            ]
           ],
           "sequential": [
            [
             0,
             "#0d0887"
            ],
            [
             0.1111111111111111,
             "#46039f"
            ],
            [
             0.2222222222222222,
             "#7201a8"
            ],
            [
             0.3333333333333333,
             "#9c179e"
            ],
            [
             0.4444444444444444,
             "#bd3786"
            ],
            [
             0.5555555555555556,
             "#d8576b"
            ],
            [
             0.6666666666666666,
             "#ed7953"
            ],
            [
             0.7777777777777778,
             "#fb9f3a"
            ],
            [
             0.8888888888888888,
             "#fdca26"
            ],
            [
             1,
             "#f0f921"
            ]
           ],
           "sequentialminus": [
            [
             0,
             "#0d0887"
            ],
            [
             0.1111111111111111,
             "#46039f"
            ],
            [
             0.2222222222222222,
             "#7201a8"
            ],
            [
             0.3333333333333333,
             "#9c179e"
            ],
            [
             0.4444444444444444,
             "#bd3786"
            ],
            [
             0.5555555555555556,
             "#d8576b"
            ],
            [
             0.6666666666666666,
             "#ed7953"
            ],
            [
             0.7777777777777778,
             "#fb9f3a"
            ],
            [
             0.8888888888888888,
             "#fdca26"
            ],
            [
             1,
             "#f0f921"
            ]
           ]
          },
          "colorway": [
           "#636efa",
           "#EF553B",
           "#00cc96",
           "#ab63fa",
           "#FFA15A",
           "#19d3f3",
           "#FF6692",
           "#B6E880",
           "#FF97FF",
           "#FECB52"
          ],
          "font": {
           "color": "#2a3f5f"
          },
          "geo": {
           "bgcolor": "white",
           "lakecolor": "white",
           "landcolor": "#E5ECF6",
           "showlakes": true,
           "showland": true,
           "subunitcolor": "white"
          },
          "hoverlabel": {
           "align": "left"
          },
          "hovermode": "closest",
          "mapbox": {
           "style": "light"
          },
          "paper_bgcolor": "white",
          "plot_bgcolor": "#E5ECF6",
          "polar": {
           "angularaxis": {
            "gridcolor": "white",
            "linecolor": "white",
            "ticks": ""
           },
           "bgcolor": "#E5ECF6",
           "radialaxis": {
            "gridcolor": "white",
            "linecolor": "white",
            "ticks": ""
           }
          },
          "scene": {
           "xaxis": {
            "backgroundcolor": "#E5ECF6",
            "gridcolor": "white",
            "gridwidth": 2,
            "linecolor": "white",
            "showbackground": true,
            "ticks": "",
            "zerolinecolor": "white"
           },
           "yaxis": {
            "backgroundcolor": "#E5ECF6",
            "gridcolor": "white",
            "gridwidth": 2,
            "linecolor": "white",
            "showbackground": true,
            "ticks": "",
            "zerolinecolor": "white"
           },
           "zaxis": {
            "backgroundcolor": "#E5ECF6",
            "gridcolor": "white",
            "gridwidth": 2,
            "linecolor": "white",
            "showbackground": true,
            "ticks": "",
            "zerolinecolor": "white"
           }
          },
          "shapedefaults": {
           "line": {
            "color": "#2a3f5f"
           }
          },
          "ternary": {
           "aaxis": {
            "gridcolor": "white",
            "linecolor": "white",
            "ticks": ""
           },
           "baxis": {
            "gridcolor": "white",
            "linecolor": "white",
            "ticks": ""
           },
           "bgcolor": "#E5ECF6",
           "caxis": {
            "gridcolor": "white",
            "linecolor": "white",
            "ticks": ""
           }
          },
          "title": {
           "x": 0.05
          },
          "xaxis": {
           "automargin": true,
           "gridcolor": "white",
           "linecolor": "white",
           "ticks": "",
           "title": {
            "standoff": 15
           },
           "zerolinecolor": "white",
           "zerolinewidth": 2
          },
          "yaxis": {
           "automargin": true,
           "gridcolor": "white",
           "linecolor": "white",
           "ticks": "",
           "title": {
            "standoff": 15
           },
           "zerolinecolor": "white",
           "zerolinewidth": 2
          }
         }
        },
        "title": {
         "text": "Actual vs Predicted Prices (Tuned Model)"
        },
        "xaxis": {
         "anchor": "y",
         "domain": [
          0,
          1
         ],
         "title": {
          "text": "Actual Prices"
         }
        },
        "yaxis": {
         "anchor": "x",
         "domain": [
          0,
          1
         ],
         "title": {
          "text": "Predicted Prices"
         }
        }
       }
      }
     },
     "metadata": {},
     "output_type": "display_data"
    },
    {
     "name": "stdout",
     "output_type": "stream",
     "text": [
      "Test MSE for the tuned model: 0.884351344283537\n"
     ]
    }
   ],
   "source": [
    "# define the hyperparameter grid for Random Forest Regressor\n",
    "param_grid = {\n",
    "    'n_estimators': [50, 100, 200],\n",
    "    'max_depth': [None, 10, 20],\n",
    "    'min_samples_split': [2, 5, 10],\n",
    "    'min_samples_leaf': [1, 2, 4]\n",
    "}\n",
    "\n",
    "base_model = RandomForestRegressor(random_state=42)\n",
    "\n",
    "# create GridSearchCV object\n",
    "grid_search = GridSearchCV(base_model, param_grid, cv=5, scoring='neg_mean_squared_error', n_jobs=-1)\n",
    "\n",
    "# perform grid search on training data\n",
    "grid_search.fit(X_train, y_train)\n",
    "\n",
    "# Get the best hyperparameters from grid search\n",
    "best_params = grid_search.best_params_\n",
    "print(\"Best Hyperparameters:\", best_params)\n",
    "\n",
    "# Train model with best hyperparameters on entire training set\n",
    "best_model = grid_search.best_estimator_\n",
    "\n",
    "# Make predictions \n",
    "test_predictions = best_model.predict(X_test)\n",
    "\n",
    "# visualize\n",
    "evaluation_df = pd.DataFrame({'Actual': y_test, 'Predicted': test_predictions})\n",
    "fig = px.scatter(evaluation_df, x='Actual', y='Predicted', title='Actual vs Predicted Prices (Tuned Model)')\n",
    "fig.update_layout(xaxis_title='Actual Prices', yaxis_title='Predicted Prices')\n",
    "fig.show()\n",
    "\n",
    "# Print evaluation metric results\n",
    "tuned_mse = mean_squared_error(y_test, test_predictions)\n",
    "print(f\"Test MSE for the tuned model: {tuned_mse}\")"
   ]
  }
 ],
 "metadata": {
  "kernelspec": {
   "display_name": "base",
   "language": "python",
   "name": "python3"
  },
  "language_info": {
   "codemirror_mode": {
    "name": "ipython",
    "version": 3
   },
   "file_extension": ".py",
   "mimetype": "text/x-python",
   "name": "python",
   "nbconvert_exporter": "python",
   "pygments_lexer": "ipython3",
   "version": "3.11.5"
  }
 },
 "nbformat": 4,
 "nbformat_minor": 2
}
